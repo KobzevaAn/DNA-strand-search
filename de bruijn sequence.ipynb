{
 "cells": [
  {
   "cell_type": "code",
   "execution_count": 202,
   "metadata": {},
   "outputs": [],
   "source": [
    "import numpy as np\n",
    "import math\n",
    "from matplotlib import mlab\n",
    "import matplotlib.pyplot as plt\n",
    "import matplotlib.pyplot as plt\n",
    "import scipy as sp\n",
    "import random\n",
    "import networkx as nx"
   ]
  },
  {
   "cell_type": "code",
   "execution_count": 602,
   "metadata": {
    "scrolled": true
   },
   "outputs": [],
   "source": [
    "def find_eulerian(T, stack, tour, i):\n",
    "    while stack != [-1]:\n",
    "        j = 0\n",
    "        while  j < len(T) :\n",
    "            if T[i, j] == 1:\n",
    "                stack.append(j)\n",
    "                T[i, j] = 0\n",
    "                i = j\n",
    "                find_eulerian(T, stack, tour, i)\n",
    "            j = j + 1\n",
    "\n",
    "        if j == len(T):\n",
    "            if stack != [-1]:\n",
    "                stack.pop()\n",
    "                tour.append(i)\n",
    "                i = stack[len(stack) - 1]\n",
    "                find_eulerian(T, stack, tour, i)\n",
    "    return T, stack, tour, i\n"
   ]
  },
  {
   "cell_type": "code",
   "execution_count": 600,
   "metadata": {},
   "outputs": [],
   "source": [
    "def show(voc):\n",
    "    G = nx.DiGraph()\n",
    "    for i in range(9):\n",
    "        G.add_edge(voc[i], voc[i+1])\n",
    "    G.add_edge(voc[9], voc[0])\n",
    "\n",
    "\n",
    "    pos = nx.spring_layout(G)\n",
    "    nx.draw_networkx_nodes(G, pos, node_size=700 )\n",
    "    nx.draw_networkx_labels(G,pos,font_size=20,font_family='sans-serif')\n",
    "    nx.draw_networkx_edges(G, pos, arrowstyle='->', arrowsize=30)  \n",
    "\n",
    "    plt.axis('off')\n",
    "    plt.savefig(\"weighted_graph.png\") \n",
    "    \n",
    "    return plt.show() "
   ]
  },
  {
   "cell_type": "markdown",
   "metadata": {},
   "source": [
    "Секвенируем последовательность из $A, T, G, C$ длиной 10 и строим граф де Брюина"
   ]
  },
  {
   "cell_type": "code",
   "execution_count": 601,
   "metadata": {},
   "outputs": [
    {
     "data": {
      "image/png": "[encoded data removed]",
      "text/plain": [
       "<Figure size 432x288 with 1 Axes>"
      ]
     },
     "metadata": {
      "needs_background": "light"
     },
     "output_type": "display_data"
    }
   ],
   "source": [
    "voc = {0:'A', 1:'T', 2:'G', 3:'C'}\n",
    "st = np.zeros(10)\n",
    "p = [None]*10\n",
    "\n",
    "for i in range(10):\n",
    "    st[i] = random.randint(0,3)\n",
    "    p[i] = voc.get(st[i])\n",
    "    i = i + 1\n",
    "\n",
    "p1 = [None]*10\n",
    "\n",
    "for i in range(9):\n",
    "    p1[i] = p[i]+p[i+1]\n",
    "    i = i + 1\n",
    "p1[9] = p[9] + p[0]\n",
    "    \n",
    "voc_2 = dict(enumerate(p1))\n",
    "show(voc_2)\n",
    "\n"
   ]
  },
  {
   "cell_type": "markdown",
   "metadata": {},
   "source": [
    "По матрице смежности находим цикл Эйлера"
   ]
  },
  {
   "cell_type": "code",
   "execution_count": 603,
   "metadata": {},
   "outputs": [
    {
     "name": "stdout",
     "output_type": "stream",
     "text": [
      "[[0 1 0 0 0 0 0 0]\n",
      " [0 0 1 0 0 0 0 0]\n",
      " [0 0 0 1 0 1 0 0]\n",
      " [0 0 0 0 1 0 1 0]\n",
      " [0 0 1 0 0 0 0 0]\n",
      " [0 0 0 1 0 0 0 0]\n",
      " [0 0 0 0 0 0 0 1]\n",
      " [1 0 0 0 0 0 0 0]]\n"
     ]
    },
    {
     "data": {
      "text/plain": [
       "[0, 7, 6, 3, 5, 2, 4, 3, 2, 1, 0]"
      ]
     },
     "execution_count": 603,
     "metadata": {},
     "output_type": "execute_result"
    }
   ],
   "source": [
    "G = nx.DiGraph()\n",
    "for i in range(9):\n",
    "    G.add_edge(voc_2[i], voc_2[i+1])\n",
    "G.add_edge(voc_2[9], voc_2[0])\n",
    "\n",
    "adj_matrix = nx.adjacency_matrix(G)\n",
    "M = adj_matrix.todense()\n",
    "\n",
    "for i in range(len(M)):\n",
    "    M[i, i] = 0\n",
    "print(M)\n",
    "\n",
    "stack = []\n",
    "stack.append(-1)\n",
    "stack.append(0)\n",
    "\n",
    "T, stack, tour, i = find_eulerian(M, stack, [], 0)\n",
    "tour"
   ]
  },
  {
   "cell_type": "markdown",
   "metadata": {},
   "source": [
    "Собираем геном"
   ]
  },
  {
   "cell_type": "code",
   "execution_count": 604,
   "metadata": {},
   "outputs": [
    {
     "data": {
      "text/plain": [
       "['GA', 'AT', 'TA', 'AC', 'CT', 'TA', 'TA', 'AC', 'AA', 'AC', 'GA']"
      ]
     },
     "execution_count": 604,
     "metadata": {},
     "output_type": "execute_result"
    }
   ],
   "source": [
    "genom = []\n",
    "for i in range(len(tour)):\n",
    "    genom.append(voc_2.get(tour.pop()))\n",
    "    i = i + 1\n",
    "genom"
   ]
  }
 ],
 "metadata": {
  "kernelspec": {
   "display_name": "Python 3",
   "language": "python",
   "name": "python3"
  },
  "language_info": {
   "codemirror_mode": {
    "name": "ipython",
    "version": 3
   },
   "file_extension": ".py",
   "mimetype": "text/x-python",
   "name": "python",
   "nbconvert_exporter": "python",
   "pygments_lexer": "ipython3",
   "version": "3.7.3"
  }
 },
 "nbformat": 4,
 "nbformat_minor": 2
}
