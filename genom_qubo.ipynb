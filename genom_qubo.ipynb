{
 "cells": [
  {
   "cell_type": "code",
   "execution_count": 4,
   "metadata": {},
   "outputs": [],
   "source": [
    "import numpy as np\n",
    "import math\n",
    "from matplotlib import mlab\n",
    "import matplotlib.pyplot as plt\n",
    "import matplotlib.pyplot as plt\n",
    "import scipy as sp\n",
    "import random\n",
    "import networkx as nx\n",
    "import dwave_networkx as dnx\n",
    "\n",
    "from dwave.system.samplers import DWaveSampler\n",
    "from dwave.system.composites import EmbeddingComposite\n",
    "from collections import Counter\n"
   ]
  },
  {
   "cell_type": "code",
   "execution_count": 186,
   "metadata": {},
   "outputs": [],
   "source": [
    "def show(voc): #По словарю строится граф\n",
    "    n = len(voc)\n",
    "    G = nx.DiGraph()\n",
    "    for i in range(n - 1):\n",
    "        G.add_edge(voc[i], voc[i+1])\n",
    "    G.add_edge(voc[n - 1], voc[0])\n",
    "\n",
    "\n",
    "    pos = nx.spring_layout(G)\n",
    "    nx.draw_networkx_nodes(G, pos, node_size=700 )\n",
    "    nx.draw_networkx_labels(G,pos,font_size=20,font_family='sans-serif')\n",
    "    nx.draw_networkx_edges(G, pos, arrowstyle='->', arrowsize=30)  \n",
    "\n",
    "    plt.axis('off')\n",
    "    plt.savefig(\"weighted_graph.png\") \n",
    "    plt.show()\n",
    "    return(G) \n",
    "\n",
    "def graph(n, k): #Генерация рида и k-меров\n",
    "    voc = {0:'A', 1:'T', 2:'G', 3:'C'}\n",
    "    g_read = [0]*n\n",
    "    \n",
    "    for i in range(n):\n",
    "        g_read[i] = voc.get(random.randint(0,3))\n",
    "    print('read = ', g_read)\n",
    "    \n",
    "    t = int(len(g_read) - k + 1)\n",
    "    \n",
    "    kmers = [0]*(t)\n",
    "    \n",
    "    for i in range(t):\n",
    "        l = ''\n",
    "        for j in range(k):\n",
    "            l = l + g_read[i + j]\n",
    "            kmers[i] = l\n",
    "    G = kmers\n",
    "    print('k-mers = ', G)\n",
    "    dict = {}\n",
    "    for i in range(len(G)):\n",
    "        dict[i] = G[i]\n",
    "    \n",
    "    g = show(dict)\n",
    "    return(dict)\n",
    "\n",
    "def matrix(voc): #По графу строится матрица смежности\n",
    "    n = len(voc)\n",
    "    G = nx.DiGraph()\n",
    "    for i in range(n - 1):\n",
    "        G.add_edge(voc[i], voc[i+1])\n",
    "    G.add_edge(voc[n - 1], voc[0])\n",
    "    \n",
    "    adj_matrix = nx.adjacency_matrix(G)\n",
    "    M = adj_matrix.todense()\n",
    "    return(M)\n",
    "    \n",
    "\n",
    "\n",
    "def adj(M, i1, i2): #Проверка наличия E(i1,i2)\n",
    "    dict = []\n",
    "\n",
    "    for j in range(len(M)):\n",
    "        if M[i1,j] == 1:\n",
    "            dict.append(j)\n",
    "\n",
    "    return(i2 in dict)\n",
    "\n",
    "\n",
    "def generate_qubo(M):    \n",
    "    varsDict = {}\n",
    "    n = len(M)\n",
    "    index = 0\n",
    "    for i in range(n):\n",
    "        for j in range(n) :\n",
    "            varsDict [( i , j ) ] = index\n",
    "            index += 1\n",
    "            #print(varsDict)\n",
    "\n",
    "    Q = {}\n",
    "    for i in range(n*n):\n",
    "        for j in range(n*n):\n",
    "            Q[i, j] = 0\n",
    "    #p1\n",
    "    for i in range(n):\n",
    "        for iprime in range(n) :\n",
    "            index = varsDict[(i, iprime)]\n",
    "            Q[index, index] -= 2\n",
    "            #print(index) \n",
    "\n",
    "        for iprime1 in range(n):\n",
    "            for iprime2 in range(n):\n",
    "                index1 = varsDict[(i, iprime1)]\n",
    "                index2 = varsDict[(i, iprime2)]\n",
    "                Q[index1, index2] += 1\n",
    "                #print(index1, index2, Q[index1, index2])\n",
    "\n",
    "    #p2\n",
    "    for iprime in range(n):\n",
    "        for i in range(n):\n",
    "            index = varsDict[(i , iprime)]\n",
    "            Q[index, index] -= 2\n",
    "            #print(index, iprime, Q[index, index])\n",
    "\n",
    "        for i1 in range(n):\n",
    "            for i2 in range(n):\n",
    "                index1 = varsDict[(i1, iprime)]\n",
    "                index2 = varsDict[(i2, iprime)]\n",
    "                Q[index1, index2] += 1\n",
    "                #print(index1, index2, Q[index1, index2])\n",
    "\n",
    "\n",
    "    for i_1 in range(n):\n",
    "         for i_2 in range(n):\n",
    "            if (adj(M, i_1, i_2)) != True and (i_1 != i_2):\n",
    "                for j in range(n - 1):\n",
    "                    index_1 = varsDict[i_1, j]\n",
    "                    index_2 = varsDict[i_2, j ]\n",
    "                    Q[index_1, index_2] += 1\n",
    "                     \n",
    "                index_1 = varsDict[i_1, n -1] \n",
    "                index_2 = varsDict[i_2 , 0]\n",
    "\n",
    "                Q[index_1, index_2 ] += 1\n",
    " \n",
    "    #for i in range(n*n):\n",
    "    #        for j in range(n*n):\n",
    "    #            if (i > j) and (not (Q[i, j]==0)):\n",
    "    #                Q[j, i] += Q [i, j]\n",
    "    #                Q[i, j] = 0\n",
    "    return Q, varsDict\n",
    "\n",
    "def way(Sample, k, vD): #Восстановление путей по цепочки спинов\n",
    "    x = [0]*k\n",
    "    vd = list()\n",
    "\n",
    "    for K in vD.keys(): \n",
    "        vd.append(K)\n",
    "    #print(vd, len(vd))\n",
    "    \n",
    "    j = 0\n",
    "    for i in range(k*k):\n",
    "        if Sample[i] == 1:\n",
    "            x[j] = i\n",
    "            j = j + 1\n",
    "\n",
    "    d = [0]*k\n",
    "    for i in range(k):\n",
    "        d[i] = vd[x[i]][1] \n",
    "    return(d)\n",
    "\n",
    "def genome_way(d, dict): #Восстановление генома по номерам вершин\n",
    "    genome = []\n",
    "    for k in range(len(d)): \n",
    "        genome.append(dict[d[k]])\n",
    "    return genome\n",
    "\n",
    "def delete_repeats(d): #Удаление повторяющихся путей \n",
    "\n",
    "    def delete(i, d):\n",
    "        j = 0\n",
    "        while j < len(d):\n",
    "            #print(i, j, len(d) - 1)\n",
    "            if d[i] == d[j] and i != j:\n",
    "                del d[j]\n",
    "            j = j + 1\n",
    "        return d, len(d)\n",
    "\n",
    "    i = 0\n",
    "\n",
    "    while i < len(d):\n",
    "        d = delete(i, d)[0]\n",
    "        i = i + 1\n",
    "\n",
    "    return d    \n",
    "\n"
   ]
  },
  {
   "cell_type": "code",
   "execution_count": 200,
   "metadata": {},
   "outputs": [],
   "source": [
    "def dwave(Q, len_M, vD):\n",
    "    sampler = EmbeddingComposite(DWaveSampler())\n",
    "    response = sampler.sample_qubo(Q, num_reads=5000)\n",
    "    d = []\n",
    "    for sample, energy, occurrences in response.data(['sample', 'energy', 'num_occurrences']): \n",
    "        if energy == - len_M*2:\n",
    "            print(\"Sample:\", sample, \"Energy: \", energy, \"Occurrences: \", occurrences)\n",
    "            d.append(way(sample, len_M, vD))\n",
    "            print(d)\n",
    "    return(d)"
   ]
  },
  {
   "cell_type": "code",
   "execution_count": 193,
   "metadata": {},
   "outputs": [
    {
     "name": "stdout",
     "output_type": "stream",
     "text": [
      "read =  ['T', 'C', 'G', 'A', 'G', 'T']\n",
      "k-mers =  ['TCG', 'CGA', 'GAG', 'AGT']\n"
     ]
    },
    {
     "name": "stderr",
     "output_type": "stream",
     "text": [
      "d:\\python\\lib\\site-packages\\networkx\\drawing\\nx_pylab.py:579: MatplotlibDeprecationWarning: \n",
      "The iterable function was deprecated in Matplotlib 3.1 and will be removed in 3.3. Use np.iterable instead.\n",
      "  if not cb.iterable(width):\n",
      "d:\\python\\lib\\site-packages\\networkx\\drawing\\nx_pylab.py:676: MatplotlibDeprecationWarning: \n",
      "The iterable function was deprecated in Matplotlib 3.1 and will be removed in 3.3. Use np.iterable instead.\n",
      "  if cb.iterable(node_size):  # many node sizes\n"
     ]
    },
    {
     "data": {
      "image/png": "[encoded data removed]",
      "text/plain": [
       "<Figure size 432x288 with 1 Axes>"
      ]
     },
     "metadata": {},
     "output_type": "display_data"
    },
    {
     "name": "stdout",
     "output_type": "stream",
     "text": [
      "[[0 1 0 0]\n",
      " [0 0 1 0]\n",
      " [0 0 0 1]\n",
      " [1 0 0 0]]\n",
      "[-2, 1, 1, 1, 1, 0, 0, 0, 2, 0, 0, 0, 2, 0, 0, 0]\n",
      "[1, -2, 1, 1, 0, 1, 0, 0, 0, 2, 0, 0, 0, 2, 0, 0]\n",
      "[1, 1, -2, 1, 0, 0, 1, 0, 0, 0, 2, 0, 0, 0, 2, 0]\n",
      "[1, 1, 1, -2, 0, 0, 0, 1, 1, 0, 0, 1, 1, 0, 0, 1]\n",
      "[2, 0, 0, 0, -2, 1, 1, 1, 1, 0, 0, 0, 2, 0, 0, 0]\n",
      "[0, 2, 0, 0, 1, -2, 1, 1, 0, 1, 0, 0, 0, 2, 0, 0]\n",
      "[0, 0, 2, 0, 1, 1, -2, 1, 0, 0, 1, 0, 0, 0, 2, 0]\n",
      "[1, 0, 0, 1, 1, 1, 1, -2, 0, 0, 0, 1, 1, 0, 0, 1]\n",
      "[2, 0, 0, 0, 2, 0, 0, 0, -2, 1, 1, 1, 1, 0, 0, 0]\n",
      "[0, 2, 0, 0, 0, 2, 0, 0, 1, -2, 1, 1, 0, 1, 0, 0]\n",
      "[0, 0, 2, 0, 0, 0, 2, 0, 1, 1, -2, 1, 0, 0, 1, 0]\n",
      "[1, 0, 0, 1, 1, 0, 0, 1, 1, 1, 1, -2, 0, 0, 0, 1]\n",
      "[1, 0, 0, 0, 2, 0, 0, 0, 2, 0, 0, 0, -2, 1, 1, 1]\n",
      "[0, 1, 0, 0, 0, 2, 0, 0, 0, 2, 0, 0, 1, -2, 1, 1]\n",
      "[0, 0, 1, 0, 0, 0, 2, 0, 0, 0, 2, 0, 1, 1, -2, 1]\n",
      "[0, 0, 0, 1, 1, 0, 0, 1, 1, 0, 0, 1, 1, 1, 1, -2]\n",
      "{(0, 0): 0, (0, 1): 1, (0, 2): 2, (0, 3): 3, (1, 0): 4, (1, 1): 5, (1, 2): 6, (1, 3): 7, (2, 0): 8, (2, 1): 9, (2, 2): 10, (2, 3): 11, (3, 0): 12, (3, 1): 13, (3, 2): 14, (3, 3): 15}\n"
     ]
    }
   ],
   "source": [
    "G = graph(6, 3)\n",
    "M = matrix(G)\n",
    "print(M)\n",
    "len_M = len(M)\n",
    "\n",
    "qubo = generate_qubo(M)\n",
    "Q = qubo[0]\n",
    "vD = qubo[1]\n",
    "\n",
    "for i in range(len_M*len_M):\n",
    "    print([Q[i,j] for j in range(len_M*len_M)])\n",
    "\n",
    "print(vD)\n",
    " \n",
    "    "
   ]
  },
  {
   "cell_type": "code",
   "execution_count": 203,
   "metadata": {},
   "outputs": [
    {
     "name": "stdout",
     "output_type": "stream",
     "text": [
      "Sample: {0: 1, 1: 0, 2: 0, 3: 0, 4: 0, 5: 1, 6: 0, 7: 0, 8: 0, 9: 0, 10: 1, 11: 0, 12: 0, 13: 0, 14: 0, 15: 1} Energy:  -8.0 Occurrences:  2\n",
      "[[0, 1, 2, 3]]\n",
      "Sample: {0: 0, 1: 0, 2: 1, 3: 0, 4: 0, 5: 1, 6: 0, 7: 0, 8: 0, 9: 0, 10: 0, 11: 1, 12: 1, 13: 0, 14: 0, 15: 0} Energy:  -8.0 Occurrences:  4\n",
      "[[0, 1, 2, 3], [2, 1, 3, 0]]\n",
      "Sample: {0: 0, 1: 0, 2: 1, 3: 0, 4: 0, 5: 1, 6: 0, 7: 0, 8: 0, 9: 0, 10: 0, 11: 1, 12: 1, 13: 0, 14: 0, 15: 0} Energy:  -8.0 Occurrences:  2\n",
      "[[0, 1, 2, 3], [2, 1, 3, 0], [2, 1, 3, 0]]\n",
      "Sample: {0: 1, 1: 0, 2: 0, 3: 0, 4: 0, 5: 1, 6: 0, 7: 0, 8: 0, 9: 0, 10: 1, 11: 0, 12: 0, 13: 0, 14: 0, 15: 1} Energy:  -8.0 Occurrences:  1\n",
      "[[0, 1, 2, 3], [2, 1, 3, 0], [2, 1, 3, 0], [0, 1, 2, 3]]\n"
     ]
    }
   ],
   "source": [
    "d = dwave(Q, len_M, vD)"
   ]
  },
  {
   "cell_type": "code",
   "execution_count": 205,
   "metadata": {},
   "outputs": [
    {
     "data": {
      "text/plain": [
       "[[0, 1, 2, 3], [2, 1, 3, 0]]"
      ]
     },
     "execution_count": 205,
     "metadata": {},
     "output_type": "execute_result"
    }
   ],
   "source": [
    "delete_repeats(d)\n",
    "d\n"
   ]
  },
  {
   "cell_type": "code",
   "execution_count": 206,
   "metadata": {},
   "outputs": [
    {
     "name": "stdout",
     "output_type": "stream",
     "text": [
      "way 0 = ['TCG', 'CGA', 'GAG', 'AGT']\n",
      "way 1 = ['GAG', 'CGA', 'AGT', 'TCG']\n"
     ]
    }
   ],
   "source": [
    "for i in range(len(d)):\n",
    "    print('way',i,'=',genome_way(d[i], G))"
   ]
  }
 ],
 "metadata": {
  "kernelspec": {
   "display_name": "Python 3",
   "language": "python",
   "name": "python3"
  },
  "language_info": {
   "codemirror_mode": {
    "name": "ipython",
    "version": 3
   },
   "file_extension": ".py",
   "mimetype": "text/x-python",
   "name": "python",
   "nbconvert_exporter": "python",
   "pygments_lexer": "ipython3",
   "version": "3.7.1"
  }
 },
 "nbformat": 4,
 "nbformat_minor": 2
}
