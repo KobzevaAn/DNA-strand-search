{
 "cells": [
  {
   "cell_type": "code",
   "execution_count": 1,
   "metadata": {},
   "outputs": [],
   "source": [
    "import numpy as np\n",
    "import math\n",
    "from matplotlib import mlab\n",
    "import matplotlib.pyplot as plt\n",
    "import matplotlib.pyplot as plt\n",
    "import scipy as sp\n",
    "import random\n",
    "import networkx as nx\n",
    "import dwave_networkx as dnx\n",
    "\n",
    "from dwave.system.samplers import DWaveSampler\n",
    "from dwave.system.composites import EmbeddingComposite\n",
    "from collections import Counter\n"
   ]
  },
  {
   "cell_type": "markdown",
   "metadata": {},
   "source": [
    "Сформулируем задачу $QUBO$ для архитерктуры $D-Wave$\\\n",
    "Рассмотрим целевую функцию $f(x) = x^TQx$, $x\\in\\{0,1\\}^s, Q:s*s$"
   ]
  },
  {
   "cell_type": "markdown",
   "metadata": {},
   "source": [
    "Имеем граф $G = (V, E), n-$вершин\\\n",
    "Гамильтонов цикл интерпретируется как перестановка на $v_0, v_1, \\ldots v_{n-1}$ такая, \\\n",
    "что для всех последовательных пар вершин $(v_i, v_{i+1})$ в перестановке $(v_i, v_{i+1})\\in E$ \\\n",
    "Нам также требуется $(v_0, v_{n − 1})\\in E$, чтобы это был цикл."
   ]
  },
  {
   "cell_type": "markdown",
   "metadata": {},
   "source": [
    "Определим вектор\n",
    "\\begin{equation*}\n",
    "x_{i,j} = \n",
    " \\begin{cases}\n",
    "   1 &\\text{$(v_i,v_j)\\in E$}\\\\\n",
    "   0 &\\text{$else$}\n",
    " \\end{cases}\n",
    "\\end{equation*}\n",
    "$$i,j\\in\\{0,1,\\ldots n-1\\}, т.е. \\textbf{x}\\in\\{0,1\\}^{n^2}$$\n",
    "Определим отображение $vD(\\textbf{x}):N\\times N\\to N, N = \\{0, 1,\\ldots n-1\\} $ \\\n",
    "\\\n",
    "Минимизируемая функция: $F(\\textbf{x}) = P_1(\\textbf{x}) + P_2(\\textbf{x}) + H(\\textbf{x}) = \\textbf{x}^{T}Q\\textbf{x},$\n",
    "$$P_1(\\textbf{x})=\\sum^{n-1}_{i=0}(1-\\sum^{n-1}_{j=0}x_{i,j})^2, P_2(\\textbf{x})=\\sum^{n-1}_{j=0}(1-\\sum^{n-1}_{i=0}x_{i,j})^2$$\n",
    "$$H(\\textbf{x}) = \\sum_{(i_1,i_2)\\in V\\times V-E(G)}(x_{i_1,0}x_{i_2,n-1}+\\sum_{j=0}^{n-2}x_{i_1,j}x_{i_2,j+1}) $$"
   ]
  },
  {
   "cell_type": "code",
   "execution_count": 120,
   "metadata": {},
   "outputs": [],
   "source": [
    "def show(voc): #По словарю строится граф\n",
    "    n = len(voc)\n",
    "    G = nx.DiGraph()\n",
    "    for i in range(n - 1):\n",
    "        G.add_edge(voc[i], voc[i+1])\n",
    "    G.add_edge(voc[n - 1], voc[0])\n",
    "\n",
    "\n",
    "    pos = nx.spring_layout(G)\n",
    "    nx.draw_networkx_nodes(G, pos, node_size=700 )\n",
    "    nx.draw_networkx_labels(G,pos,font_size=20,font_family='sans-serif')\n",
    "    nx.draw_networkx_edges(G, pos, arrowstyle='->', arrowsize=30)  \n",
    "\n",
    "    plt.axis('off')\n",
    "    plt.savefig(\"weighted_graph.png\") \n",
    "    plt.show()\n",
    "    return(G) \n",
    "\n",
    "def graph(n, k): #Генерация рида и k-меров\n",
    "    voc = {0:'A', 1:'T', 2:'G', 3:'C'}\n",
    "    g_read = [0]*n\n",
    "    \n",
    "    for i in range(n):\n",
    "        g_read[i] = voc.get(random.randint(0,3))\n",
    "    print('read = ', g_read)\n",
    "    \n",
    "    t = int(len(g_read) - k + 1)\n",
    "    \n",
    "    kmers = [0]*(t)\n",
    "    \n",
    "    for i in range(t):\n",
    "        l = ''\n",
    "        for j in range(k):\n",
    "            l = l + g_read[i + j]\n",
    "            kmers[i] = l\n",
    "    G = kmers\n",
    "    print('k-mers = ', G)\n",
    "    dict = {}\n",
    "    for i in range(len(G)):\n",
    "        dict[i] = G[i]\n",
    "    \n",
    "    g = show(dict)\n",
    "    return(dict)\n",
    "\n",
    "def matrix(voc): #По графу строится матрица смежности\n",
    "    n = len(voc)\n",
    "    G = nx.DiGraph()\n",
    "    for i in range(n - 1):\n",
    "        G.add_edge(voc[i], voc[i+1])\n",
    "    G.add_edge(voc[n - 1], voc[0])\n",
    "    \n",
    "    adj_matrix = nx.adjacency_matrix(G)\n",
    "    M = adj_matrix.todense()\n",
    "    return(M)\n",
    "    \n",
    "\n",
    "\n",
    "def adj(M, i1, i2): #Проверка наличия E(i1,i2)\n",
    "    dict = []\n",
    "\n",
    "    for j in range(len(M)):\n",
    "        if M[i1,j] == 1:\n",
    "            dict.append(j)\n",
    "\n",
    "    return(i2 in dict)\n",
    "\n",
    "\n",
    "def generate_qubo(M):    \n",
    "    varsDict = {}\n",
    "    n = len(M)\n",
    "    index = 0\n",
    "    for i in range(n):\n",
    "        for j in range(n) :\n",
    "            varsDict [( i , j ) ] = index\n",
    "            index += 1\n",
    "            #print(varsDict)\n",
    "\n",
    "    Q = {}\n",
    "    for i in range(n*n):\n",
    "        for j in range(n*n):\n",
    "            Q[i, j] = 0\n",
    "    #p1\n",
    "    for i in range(n):\n",
    "        for iprime in range(n) :\n",
    "            index = varsDict[(i, iprime)]\n",
    "            Q[index, index] -= 2\n",
    "            #print(index) \n",
    "\n",
    "        for iprime1 in range(n):\n",
    "            for iprime2 in range(n):\n",
    "                index1 = varsDict[(i, iprime1)]\n",
    "                index2 = varsDict[(i, iprime2)]\n",
    "                Q[index1, index2] += 1\n",
    "                #print(index1, index2, Q[index1, index2])\n",
    "\n",
    "    #p2\n",
    "    for iprime in range(n):\n",
    "        for i in range(n):\n",
    "            index = varsDict[(i , iprime)]\n",
    "            Q[index, index] -= 2\n",
    "            #print(index, iprime, Q[index, index])\n",
    "\n",
    "        for i1 in range(n):\n",
    "            for i2 in range(n):\n",
    "                index1 = varsDict[(i1, iprime)]\n",
    "                index2 = varsDict[(i2, iprime)]\n",
    "                Q[index1, index2] += 1\n",
    "                #print(index1, index2, Q[index1, index2])\n",
    "\n",
    "    #f\n",
    "    for i_1 in range(n):\n",
    "         for i_2 in range(n):\n",
    "            if (adj(M, i_1, i_2)) != True and (i_1 != i_2):\n",
    "                for j in range(n - 1):\n",
    "                    index_1 = varsDict[i_1, j]\n",
    "                    index_2 = varsDict[i_2, j + 1]\n",
    "                    Q[index_1, index_2] += 1\n",
    "                    #print(j, index_1, index_2, Q[index_1,index_2])\n",
    "                     \n",
    "                index_1 = varsDict[i_1, n - 1] \n",
    "                index_2 = varsDict[i_2 , 0]\n",
    "\n",
    "                Q[index_1, index_2 ] += 1\n",
    " \n",
    "    #for i in range(n*n):\n",
    "    #        for j in range(n*n):\n",
    "    #            if (i > j) and (not (Q[i, j]==0)):\n",
    "    #                Q[j, i] += Q [i, j]\n",
    "    #                Q[i, j] = 0\n",
    "    return Q, varsDict\n",
    "\n",
    "def way(Sample, k, vD): #Восстановление путей по цепочки спинов\n",
    "    x = [0]*k\n",
    "    vd = list()\n",
    "\n",
    "    for K in vD.keys(): \n",
    "        vd.append(K)\n",
    "    #print(vd, len(vd))\n",
    "    \n",
    "    j = 0\n",
    "    for i in range(k*k):\n",
    "        if Sample[i] == 1:\n",
    "            x[j] = i\n",
    "            j = j + 1\n",
    "\n",
    "    d = [0]*k\n",
    "    for i in range(k):\n",
    "        d[i] = vd[x[i]][1] \n",
    "    return(d)\n",
    "\n",
    "def genome_way(d, dict): #Восстановление генома по номерам вершин\n",
    "    genome = []\n",
    "    for k in range(len(d)): \n",
    "        genome.append(dict[d[k]])\n",
    "    return genome\n",
    "\n",
    "def delete_repeats(d): #Удаление повторяющихся путей \n",
    "\n",
    "    def delete(i, d):\n",
    "        j = 0\n",
    "        while j < len(d):\n",
    "            #print(i, j, len(d) - 1)\n",
    "            if d[i] == d[j] and i != j:\n",
    "                del d[j]\n",
    "            j = j + 1\n",
    "        return d, len(d)\n",
    "\n",
    "    i = 0\n",
    "\n",
    "    while i < len(d):\n",
    "        d = delete(i, d)[0]\n",
    "        i = i + 1\n",
    "\n",
    "    return d    \n",
    "\n"
   ]
  },
  {
   "cell_type": "code",
   "execution_count": 3,
   "metadata": {},
   "outputs": [],
   "source": [
    "def dwave(Q, len_M, vD):\n",
    "    sampler = EmbeddingComposite(DWaveSampler())\n",
    "    response = sampler.sample_qubo(Q, num_reads=5000)\n",
    "    d = []\n",
    "    for sample, energy, occurrences in response.data(['sample', 'energy', 'num_occurrences']): \n",
    "        if energy == - len_M*2:\n",
    "            print(\"Sample:\", sample, \"Energy: \", energy, \"Occurrences: \", occurrences)\n",
    "            d.append(way(sample, len_M, vD))\n",
    "            #print(d)\n",
    "    return(d)"
   ]
  },
  {
   "cell_type": "markdown",
   "metadata": {},
   "source": [
    "$\\textbf{len_read =  5, 6 - (3-мерами)}$"
   ]
  },
  {
   "cell_type": "code",
   "execution_count": 135,
   "metadata": {
    "scrolled": false
   },
   "outputs": [
    {
     "name": "stdout",
     "output_type": "stream",
     "text": [
      "read =  ['C', 'C', 'A', 'C', 'G']\n",
      "k-mers =  ['CCA', 'CAC', 'ACG']\n"
     ]
    },
    {
     "name": "stderr",
     "output_type": "stream",
     "text": [
      "d:\\python\\lib\\site-packages\\networkx\\drawing\\nx_pylab.py:579: MatplotlibDeprecationWarning: \n",
      "The iterable function was deprecated in Matplotlib 3.1 and will be removed in 3.3. Use np.iterable instead.\n",
      "  if not cb.iterable(width):\n",
      "d:\\python\\lib\\site-packages\\networkx\\drawing\\nx_pylab.py:676: MatplotlibDeprecationWarning: \n",
      "The iterable function was deprecated in Matplotlib 3.1 and will be removed in 3.3. Use np.iterable instead.\n",
      "  if cb.iterable(node_size):  # many node sizes\n"
     ]
    },
    {
     "data": {
      "image/png": "[encoded data removed]",
      "text/plain": [
       "<Figure size 432x288 with 1 Axes>"
      ]
     },
     "metadata": {},
     "output_type": "display_data"
    },
    {
     "name": "stdout",
     "output_type": "stream",
     "text": [
      "[[0 1 0]\n",
      " [0 0 1]\n",
      " [1 0 0]]\n",
      "[-2, 1, 1, 1, 0, 0, 1, 1, 0]\n",
      "[1, -2, 1, 0, 1, 0, 0, 1, 1]\n",
      "[1, 1, -2, 0, 0, 1, 1, 0, 1]\n",
      "[1, 1, 0, -2, 1, 1, 1, 0, 0]\n",
      "[0, 1, 1, 1, -2, 1, 0, 1, 0]\n",
      "[1, 0, 1, 1, 1, -2, 0, 0, 1]\n",
      "[1, 0, 0, 1, 1, 0, -2, 1, 1]\n",
      "[0, 1, 0, 0, 1, 1, 1, -2, 1]\n",
      "[0, 0, 1, 1, 0, 1, 1, 1, -2]\n",
      "{(0, 0): 0, (0, 1): 1, (0, 2): 2, (1, 0): 3, (1, 1): 4, (1, 2): 5, (2, 0): 6, (2, 1): 7, (2, 2): 8}\n",
      "Sample: {0: 0, 1: 1, 2: 0, 3: 0, 4: 0, 5: 1, 6: 1, 7: 0, 8: 0} Energy:  -6.0 Occurrences:  1886\n",
      "Sample: {0: 1, 1: 0, 2: 0, 3: 0, 4: 1, 5: 0, 6: 0, 7: 0, 8: 1} Energy:  -6.0 Occurrences:  2528\n",
      "Sample: {0: 0, 1: 0, 2: 1, 3: 1, 4: 0, 5: 0, 6: 0, 7: 1, 8: 0} Energy:  -6.0 Occurrences:  532\n",
      "Sample: {0: 0, 1: 1, 2: 0, 3: 0, 4: 0, 5: 1, 6: 1, 7: 0, 8: 0} Energy:  -6.0 Occurrences:  3\n",
      "Sample: {0: 1, 1: 0, 2: 0, 3: 0, 4: 1, 5: 0, 6: 0, 7: 0, 8: 1} Energy:  -6.0 Occurrences:  2\n",
      "Sample: {0: 0, 1: 0, 2: 1, 3: 1, 4: 0, 5: 0, 6: 0, 7: 1, 8: 0} Energy:  -6.0 Occurrences:  2\n",
      "Sample: {0: 1, 1: 0, 2: 0, 3: 0, 4: 1, 5: 0, 6: 0, 7: 0, 8: 1} Energy:  -6.0 Occurrences:  1\n",
      "Sample: {0: 0, 1: 1, 2: 0, 3: 0, 4: 0, 5: 1, 6: 1, 7: 0, 8: 0} Energy:  -6.0 Occurrences:  1\n",
      "Sample: {0: 0, 1: 0, 2: 1, 3: 1, 4: 0, 5: 0, 6: 0, 7: 1, 8: 0} Energy:  -6.0 Occurrences:  1\n",
      "Sample: {0: 0, 1: 1, 2: 0, 3: 0, 4: 0, 5: 1, 6: 1, 7: 0, 8: 0} Energy:  -6.0 Occurrences:  1\n",
      "Sample: {0: 0, 1: 1, 2: 0, 3: 0, 4: 0, 5: 1, 6: 1, 7: 0, 8: 0} Energy:  -6.0 Occurrences:  1\n",
      "Sample: {0: 1, 1: 0, 2: 0, 3: 0, 4: 1, 5: 0, 6: 0, 7: 0, 8: 1} Energy:  -6.0 Occurrences:  1\n",
      "[[1, 2, 0], [0, 1, 2], [2, 0, 1], [1, 2, 0]]\n",
      "way 0 = ['CAC', 'ACG', 'CCA']\n",
      "way 1 = ['CCA', 'CAC', 'ACG']\n",
      "way 2 = ['ACG', 'CCA', 'CAC']\n",
      "way 3 = ['CAC', 'ACG', 'CCA']\n",
      "read =  ['T', 'T', 'A', 'C', 'G', 'C']\n",
      "k-mers =  ['TTA', 'TAC', 'ACG', 'CGC']\n"
     ]
    },
    {
     "name": "stderr",
     "output_type": "stream",
     "text": [
      "d:\\python\\lib\\site-packages\\networkx\\drawing\\nx_pylab.py:579: MatplotlibDeprecationWarning: \n",
      "The iterable function was deprecated in Matplotlib 3.1 and will be removed in 3.3. Use np.iterable instead.\n",
      "  if not cb.iterable(width):\n",
      "d:\\python\\lib\\site-packages\\networkx\\drawing\\nx_pylab.py:676: MatplotlibDeprecationWarning: \n",
      "The iterable function was deprecated in Matplotlib 3.1 and will be removed in 3.3. Use np.iterable instead.\n",
      "  if cb.iterable(node_size):  # many node sizes\n"
     ]
    },
    {
     "data": {
      "image/png": "[encoded data removed]",
      "text/plain": [
       "<Figure size 432x288 with 1 Axes>"
      ]
     },
     "metadata": {},
     "output_type": "display_data"
    },
    {
     "name": "stdout",
     "output_type": "stream",
     "text": [
      "[[0 1 0 0]\n",
      " [0 0 1 0]\n",
      " [0 0 0 1]\n",
      " [1 0 0 0]]\n",
      "[-2, 1, 1, 1, 1, 0, 0, 0, 1, 1, 0, 0, 1, 1, 0, 0]\n",
      "[1, -2, 1, 1, 0, 1, 0, 0, 0, 1, 1, 0, 0, 1, 1, 0]\n",
      "[1, 1, -2, 1, 0, 0, 1, 0, 0, 0, 1, 1, 0, 0, 1, 1]\n",
      "[1, 1, 1, -2, 0, 0, 0, 1, 1, 0, 0, 1, 1, 0, 0, 1]\n",
      "[1, 1, 0, 0, -2, 1, 1, 1, 1, 0, 0, 0, 1, 1, 0, 0]\n",
      "[0, 1, 1, 0, 1, -2, 1, 1, 0, 1, 0, 0, 0, 1, 1, 0]\n",
      "[0, 0, 1, 1, 1, 1, -2, 1, 0, 0, 1, 0, 0, 0, 1, 1]\n",
      "[1, 0, 0, 1, 1, 1, 1, -2, 0, 0, 0, 1, 1, 0, 0, 1]\n",
      "[1, 1, 0, 0, 1, 1, 0, 0, -2, 1, 1, 1, 1, 0, 0, 0]\n",
      "[0, 1, 1, 0, 0, 1, 1, 0, 1, -2, 1, 1, 0, 1, 0, 0]\n",
      "[0, 0, 1, 1, 0, 0, 1, 1, 1, 1, -2, 1, 0, 0, 1, 0]\n",
      "[1, 0, 0, 1, 1, 0, 0, 1, 1, 1, 1, -2, 0, 0, 0, 1]\n",
      "[1, 0, 0, 0, 1, 1, 0, 0, 1, 1, 0, 0, -2, 1, 1, 1]\n",
      "[0, 1, 0, 0, 0, 1, 1, 0, 0, 1, 1, 0, 1, -2, 1, 1]\n",
      "[0, 0, 1, 0, 0, 0, 1, 1, 0, 0, 1, 1, 1, 1, -2, 1]\n",
      "[0, 0, 0, 1, 1, 0, 0, 1, 1, 0, 0, 1, 1, 1, 1, -2]\n",
      "{(0, 0): 0, (0, 1): 1, (0, 2): 2, (0, 3): 3, (1, 0): 4, (1, 1): 5, (1, 2): 6, (1, 3): 7, (2, 0): 8, (2, 1): 9, (2, 2): 10, (2, 3): 11, (3, 0): 12, (3, 1): 13, (3, 2): 14, (3, 3): 15}\n",
      "Sample: {0: 0, 1: 0, 2: 0, 3: 1, 4: 1, 5: 0, 6: 0, 7: 0, 8: 0, 9: 1, 10: 0, 11: 0, 12: 0, 13: 0, 14: 1, 15: 0} Energy:  -8.0 Occurrences:  41\n",
      "Sample: {0: 1, 1: 0, 2: 0, 3: 0, 4: 0, 5: 1, 6: 0, 7: 0, 8: 0, 9: 0, 10: 1, 11: 0, 12: 0, 13: 0, 14: 0, 15: 1} Energy:  -8.0 Occurrences:  1\n",
      "Sample: {0: 1, 1: 0, 2: 0, 3: 0, 4: 0, 5: 1, 6: 0, 7: 0, 8: 0, 9: 0, 10: 1, 11: 0, 12: 0, 13: 0, 14: 0, 15: 1} Energy:  -8.0 Occurrences:  1\n",
      "Sample: {0: 1, 1: 0, 2: 0, 3: 0, 4: 0, 5: 1, 6: 0, 7: 0, 8: 0, 9: 0, 10: 1, 11: 0, 12: 0, 13: 0, 14: 0, 15: 1} Energy:  -8.0 Occurrences:  1\n",
      "Sample: {0: 1, 1: 0, 2: 0, 3: 0, 4: 0, 5: 1, 6: 0, 7: 0, 8: 0, 9: 0, 10: 1, 11: 0, 12: 0, 13: 0, 14: 0, 15: 1} Energy:  -8.0 Occurrences:  3\n",
      "Sample: {0: 1, 1: 0, 2: 0, 3: 0, 4: 0, 5: 1, 6: 0, 7: 0, 8: 0, 9: 0, 10: 1, 11: 0, 12: 0, 13: 0, 14: 0, 15: 1} Energy:  -8.0 Occurrences:  3\n",
      "Sample: {0: 1, 1: 0, 2: 0, 3: 0, 4: 0, 5: 1, 6: 0, 7: 0, 8: 0, 9: 0, 10: 1, 11: 0, 12: 0, 13: 0, 14: 0, 15: 1} Energy:  -8.0 Occurrences:  1\n",
      "Sample: {0: 1, 1: 0, 2: 0, 3: 0, 4: 0, 5: 1, 6: 0, 7: 0, 8: 0, 9: 0, 10: 1, 11: 0, 12: 0, 13: 0, 14: 0, 15: 1} Energy:  -8.0 Occurrences:  1\n",
      "Sample: {0: 1, 1: 0, 2: 0, 3: 0, 4: 0, 5: 1, 6: 0, 7: 0, 8: 0, 9: 0, 10: 1, 11: 0, 12: 0, 13: 0, 14: 0, 15: 1} Energy:  -8.0 Occurrences:  1\n",
      "Sample: {0: 1, 1: 0, 2: 0, 3: 0, 4: 0, 5: 1, 6: 0, 7: 0, 8: 0, 9: 0, 10: 1, 11: 0, 12: 0, 13: 0, 14: 0, 15: 1} Energy:  -8.0 Occurrences:  22\n",
      "Sample: {0: 1, 1: 0, 2: 0, 3: 0, 4: 0, 5: 1, 6: 0, 7: 0, 8: 0, 9: 0, 10: 1, 11: 0, 12: 0, 13: 0, 14: 0, 15: 1} Energy:  -8.0 Occurrences:  7\n",
      "Sample: {0: 1, 1: 0, 2: 0, 3: 0, 4: 0, 5: 1, 6: 0, 7: 0, 8: 0, 9: 0, 10: 1, 11: 0, 12: 0, 13: 0, 14: 0, 15: 1} Energy:  -8.0 Occurrences:  30\n",
      "Sample: {0: 1, 1: 0, 2: 0, 3: 0, 4: 0, 5: 1, 6: 0, 7: 0, 8: 0, 9: 0, 10: 1, 11: 0, 12: 0, 13: 0, 14: 0, 15: 1} Energy:  -8.0 Occurrences:  192\n",
      "Sample: {0: 1, 1: 0, 2: 0, 3: 0, 4: 0, 5: 1, 6: 0, 7: 0, 8: 0, 9: 0, 10: 1, 11: 0, 12: 0, 13: 0, 14: 0, 15: 1} Energy:  -8.0 Occurrences:  16\n",
      "Sample: {0: 0, 1: 0, 2: 0, 3: 1, 4: 1, 5: 0, 6: 0, 7: 0, 8: 0, 9: 1, 10: 0, 11: 0, 12: 0, 13: 0, 14: 1, 15: 0} Energy:  -8.0 Occurrences:  1\n",
      "Sample: {0: 1, 1: 0, 2: 0, 3: 0, 4: 0, 5: 1, 6: 0, 7: 0, 8: 0, 9: 0, 10: 1, 11: 0, 12: 0, 13: 0, 14: 0, 15: 1} Energy:  -8.0 Occurrences:  7\n",
      "Sample: {0: 0, 1: 0, 2: 0, 3: 1, 4: 1, 5: 0, 6: 0, 7: 0, 8: 0, 9: 1, 10: 0, 11: 0, 12: 0, 13: 0, 14: 1, 15: 0} Energy:  -8.0 Occurrences:  1\n",
      "Sample: {0: 0, 1: 0, 2: 1, 3: 0, 4: 0, 5: 0, 6: 0, 7: 1, 8: 1, 9: 0, 10: 0, 11: 0, 12: 0, 13: 1, 14: 0, 15: 0} Energy:  -8.0 Occurrences:  10\n",
      "Sample: {0: 0, 1: 0, 2: 0, 3: 1, 4: 1, 5: 0, 6: 0, 7: 0, 8: 0, 9: 1, 10: 0, 11: 0, 12: 0, 13: 0, 14: 1, 15: 0} Energy:  -8.0 Occurrences:  1\n",
      "Sample: {0: 0, 1: 1, 2: 0, 3: 0, 4: 0, 5: 0, 6: 1, 7: 0, 8: 0, 9: 0, 10: 0, 11: 1, 12: 1, 13: 0, 14: 0, 15: 0} Energy:  -8.0 Occurrences:  12\n",
      "[[3, 0, 1, 2], [0, 1, 2, 3], [0, 1, 2, 3], [2, 3, 0, 1], [1, 2, 3, 0]]\n",
      "way 0 = ['CGC', 'TTA', 'TAC', 'ACG']\n",
      "way 1 = ['TTA', 'TAC', 'ACG', 'CGC']\n",
      "way 2 = ['TTA', 'TAC', 'ACG', 'CGC']\n",
      "way 3 = ['ACG', 'CGC', 'TTA', 'TAC']\n",
      "way 4 = ['TAC', 'ACG', 'CGC', 'TTA']\n"
     ]
    }
   ],
   "source": [
    "for i in range(5, 7):\n",
    "    G = graph(i, 3)\n",
    "    M = matrix(G)\n",
    "    print(M)\n",
    "    len_M = len(M)\n",
    "\n",
    "    qubo = generate_qubo(M)\n",
    "    Q = qubo[0]\n",
    "    vD = qubo[1]\n",
    "\n",
    "    for i in range(len_M*len_M):\n",
    "        print([Q[i,j] for j in range(len_M*len_M)])\n",
    "\n",
    "    print(vD)\n",
    "    d = dwave(Q, len_M, vD)\n",
    "    delete_repeats(d)\n",
    "    print(d)\n",
    "\n",
    "    for i in range(len(d)):\n",
    "        print('way',i,'=',genome_way(d[i], G))\n",
    "\n",
    "    "
   ]
  },
  {
   "cell_type": "markdown",
   "metadata": {},
   "source": [
    "$\\textbf{len_read =  7 - (3, 4, 5-мерами)}$"
   ]
  },
  {
   "cell_type": "code",
   "execution_count": 229,
   "metadata": {},
   "outputs": [
    {
     "name": "stdout",
     "output_type": "stream",
     "text": [
      "read =  ['C', 'G', 'T', 'G', 'C', 'A', 'C']\n",
      "k-mers =  ['CGT', 'GTG', 'TGC', 'GCA', 'CAC']\n"
     ]
    },
    {
     "name": "stderr",
     "output_type": "stream",
     "text": [
      "d:\\python\\lib\\site-packages\\networkx\\drawing\\nx_pylab.py:579: MatplotlibDeprecationWarning: \n",
      "The iterable function was deprecated in Matplotlib 3.1 and will be removed in 3.3. Use np.iterable instead.\n",
      "  if not cb.iterable(width):\n",
      "d:\\python\\lib\\site-packages\\networkx\\drawing\\nx_pylab.py:676: MatplotlibDeprecationWarning: \n",
      "The iterable function was deprecated in Matplotlib 3.1 and will be removed in 3.3. Use np.iterable instead.\n",
      "  if cb.iterable(node_size):  # many node sizes\n"
     ]
    },
    {
     "data": {
      "image/png": "[encoded data removed]",
      "text/plain": [
       "<Figure size 432x288 with 1 Axes>"
      ]
     },
     "metadata": {},
     "output_type": "display_data"
    },
    {
     "name": "stdout",
     "output_type": "stream",
     "text": [
      "[[0 1 0 0 0]\n",
      " [0 0 1 0 0]\n",
      " [0 0 0 1 0]\n",
      " [0 0 0 0 1]\n",
      " [1 0 0 0 0]]\n",
      "[-2, 1, 1, 1, 1, 1, 0, 0, 0, 0, 1, 1, 0, 0, 0, 1, 1, 0, 0, 0, 1, 1, 0, 0, 0]\n",
      "[1, -2, 1, 1, 1, 0, 1, 0, 0, 0, 0, 1, 1, 0, 0, 0, 1, 1, 0, 0, 0, 1, 1, 0, 0]\n",
      "[1, 1, -2, 1, 1, 0, 0, 1, 0, 0, 0, 0, 1, 1, 0, 0, 0, 1, 1, 0, 0, 0, 1, 1, 0]\n",
      "[1, 1, 1, -2, 1, 0, 0, 0, 1, 0, 0, 0, 0, 1, 1, 0, 0, 0, 1, 1, 0, 0, 0, 1, 1]\n",
      "[1, 1, 1, 1, -2, 0, 0, 0, 0, 1, 1, 0, 0, 0, 1, 1, 0, 0, 0, 1, 1, 0, 0, 0, 1]\n",
      "[1, 1, 0, 0, 0, -2, 1, 1, 1, 1, 1, 0, 0, 0, 0, 1, 1, 0, 0, 0, 1, 1, 0, 0, 0]\n",
      "[0, 1, 1, 0, 0, 1, -2, 1, 1, 1, 0, 1, 0, 0, 0, 0, 1, 1, 0, 0, 0, 1, 1, 0, 0]\n",
      "[0, 0, 1, 1, 0, 1, 1, -2, 1, 1, 0, 0, 1, 0, 0, 0, 0, 1, 1, 0, 0, 0, 1, 1, 0]\n",
      "[0, 0, 0, 1, 1, 1, 1, 1, -2, 1, 0, 0, 0, 1, 0, 0, 0, 0, 1, 1, 0, 0, 0, 1, 1]\n",
      "[1, 0, 0, 0, 1, 1, 1, 1, 1, -2, 0, 0, 0, 0, 1, 1, 0, 0, 0, 1, 1, 0, 0, 0, 1]\n",
      "[1, 1, 0, 0, 0, 1, 1, 0, 0, 0, -2, 1, 1, 1, 1, 1, 0, 0, 0, 0, 1, 1, 0, 0, 0]\n",
      "[0, 1, 1, 0, 0, 0, 1, 1, 0, 0, 1, -2, 1, 1, 1, 0, 1, 0, 0, 0, 0, 1, 1, 0, 0]\n",
      "[0, 0, 1, 1, 0, 0, 0, 1, 1, 0, 1, 1, -2, 1, 1, 0, 0, 1, 0, 0, 0, 0, 1, 1, 0]\n",
      "[0, 0, 0, 1, 1, 0, 0, 0, 1, 1, 1, 1, 1, -2, 1, 0, 0, 0, 1, 0, 0, 0, 0, 1, 1]\n",
      "[1, 0, 0, 0, 1, 1, 0, 0, 0, 1, 1, 1, 1, 1, -2, 0, 0, 0, 0, 1, 1, 0, 0, 0, 1]\n",
      "[1, 1, 0, 0, 0, 1, 1, 0, 0, 0, 1, 1, 0, 0, 0, -2, 1, 1, 1, 1, 1, 0, 0, 0, 0]\n",
      "[0, 1, 1, 0, 0, 0, 1, 1, 0, 0, 0, 1, 1, 0, 0, 1, -2, 1, 1, 1, 0, 1, 0, 0, 0]\n",
      "[0, 0, 1, 1, 0, 0, 0, 1, 1, 0, 0, 0, 1, 1, 0, 1, 1, -2, 1, 1, 0, 0, 1, 0, 0]\n",
      "[0, 0, 0, 1, 1, 0, 0, 0, 1, 1, 0, 0, 0, 1, 1, 1, 1, 1, -2, 1, 0, 0, 0, 1, 0]\n",
      "[1, 0, 0, 0, 1, 1, 0, 0, 0, 1, 1, 0, 0, 0, 1, 1, 1, 1, 1, -2, 0, 0, 0, 0, 1]\n",
      "[1, 0, 0, 0, 0, 1, 1, 0, 0, 0, 1, 1, 0, 0, 0, 1, 1, 0, 0, 0, -2, 1, 1, 1, 1]\n",
      "[0, 1, 0, 0, 0, 0, 1, 1, 0, 0, 0, 1, 1, 0, 0, 0, 1, 1, 0, 0, 1, -2, 1, 1, 1]\n",
      "[0, 0, 1, 0, 0, 0, 0, 1, 1, 0, 0, 0, 1, 1, 0, 0, 0, 1, 1, 0, 1, 1, -2, 1, 1]\n",
      "[0, 0, 0, 1, 0, 0, 0, 0, 1, 1, 0, 0, 0, 1, 1, 0, 0, 0, 1, 1, 1, 1, 1, -2, 1]\n",
      "[0, 0, 0, 0, 1, 1, 0, 0, 0, 1, 1, 0, 0, 0, 1, 1, 0, 0, 0, 1, 1, 1, 1, 1, -2]\n",
      "{(0, 0): 0, (0, 1): 1, (0, 2): 2, (0, 3): 3, (0, 4): 4, (1, 0): 5, (1, 1): 6, (1, 2): 7, (1, 3): 8, (1, 4): 9, (2, 0): 10, (2, 1): 11, (2, 2): 12, (2, 3): 13, (2, 4): 14, (3, 0): 15, (3, 1): 16, (3, 2): 17, (3, 3): 18, (3, 4): 19, (4, 0): 20, (4, 1): 21, (4, 2): 22, (4, 3): 23, (4, 4): 24}\n"
     ]
    }
   ],
   "source": [
    "G = graph(7, 3)\n",
    "M = matrix(G)\n",
    "print(M)\n",
    "len_M = len(M)\n",
    "\n",
    "qubo = generate_qubo(M)\n",
    "Q = qubo[0]\n",
    "vD = qubo[1]\n",
    "\n",
    "for i in range(len_M*len_M):\n",
    "    print([Q[i,j] for j in range(len_M*len_M)])\n",
    "\n",
    "print(vD)\n",
    "d = dwave(Q, len_M, vD)\n"
   ]
  },
  {
   "cell_type": "code",
   "execution_count": 228,
   "metadata": {},
   "outputs": [
    {
     "name": "stdout",
     "output_type": "stream",
     "text": [
      "[]\n"
     ]
    }
   ],
   "source": [
    "delete_repeats(d)\n",
    "print(d)\n",
    "\n",
    "for i in range(len(d)):\n",
    "    print('way',i,'=',genome_way(d[i], G))"
   ]
  },
  {
   "cell_type": "code",
   "execution_count": 154,
   "metadata": {},
   "outputs": [
    {
     "data": {
      "text/plain": [
       "[[0, 1, 2, 3, 4], [0, 1, 2, 3, 4], [0, 1, 2, 3, 4], [0, 1, 2, 3, 4]]"
      ]
     },
     "execution_count": 154,
     "metadata": {},
     "output_type": "execute_result"
    }
   ],
   "source": [
    "d = []\n",
    "Sample = {0: 1, 1: 0, 2: 0, 3: 0, 4: 0, 5: 0, 6: 1, 7: 0, 8: 0, 9: 0, 10: 0, 11: 0, 12: 1, 13: 0, 14: 0, 15: 0, 16: 0, 17: 0, 18: 1, 19: 0, 20: 0, 21: 0, 22: 0, 23: 0, 24: 1}\n",
    "d.append(way(Sample, len_M, vD))\n",
    "Sample = {0: 1, 1: 0, 2: 0, 3: 0, 4: 0, 5: 0, 6: 1, 7: 0, 8: 0, 9: 0, 10: 0, 11: 0, 12: 1, 13: 0, 14: 0, 15: 0, 16: 0, 17: 0, 18: 1, 19: 0, 20: 0, 21: 0, 22: 0, 23: 0, 24: 1} \n",
    "d.append(way(Sample, len_M, vD))\n",
    "Sample = {0: 1, 1: 0, 2: 0, 3: 0, 4: 0, 5: 0, 6: 1, 7: 0, 8: 0, 9: 0, 10: 0, 11: 0, 12: 1, 13: 0, 14: 0, 15: 0, 16: 0, 17: 0, 18: 1, 19: 0, 20: 0, 21: 0, 22: 0, 23: 0, 24: 1} \n",
    "d.append(way(Sample, len_M, vD))\n",
    "Sample = {0: 1, 1: 0, 2: 0, 3: 0, 4: 0, 5: 0, 6: 1, 7: 0, 8: 0, 9: 0, 10: 0, 11: 0, 12: 1, 13: 0, 14: 0, 15: 0, 16: 0, 17: 0, 18: 1, 19: 0, 20: 0, 21: 0, 22: 0, 23: 0, 24: 1} \n",
    "d.append(way(Sample, len_M, vD))\n",
    "\n",
    "d"
   ]
  },
  {
   "cell_type": "code",
   "execution_count": 202,
   "metadata": {},
   "outputs": [
    {
     "name": "stdout",
     "output_type": "stream",
     "text": [
      "[[0, 1, 2, 3, 4]]\n",
      "way 0 = ['AGA', 'GAA', 'AAG', 'AGG', 'GGC']\n"
     ]
    }
   ],
   "source": [
    "print(d)\n",
    "for i in range(len(d)):\n",
    "    print('way',i,'=',genome_way(d[i], G))"
   ]
  },
  {
   "cell_type": "code",
   "execution_count": 162,
   "metadata": {},
   "outputs": [
    {
     "name": "stdout",
     "output_type": "stream",
     "text": [
      "[[2, 3, 4, 0, 1]]\n",
      "way 0 = ['GAA', 'AAG', 'AGC', 'AGG', 'GGA']\n"
     ]
    }
   ],
   "source": [
    "delete_repeats(d)\n",
    "print(d)\n",
    "\n",
    "for i in range(len(d)):\n",
    "    print('way',i,'=',genome_way(d[i], G))"
   ]
  },
  {
   "cell_type": "code",
   "execution_count": 211,
   "metadata": {
    "scrolled": true
   },
   "outputs": [
    {
     "name": "stdout",
     "output_type": "stream",
     "text": [
      "read =  ['G', 'C', 'T', 'T', 'G', 'G', 'C']\n",
      "k-mers =  ['GCTT', 'CTTG', 'TTGG', 'TGGC']\n"
     ]
    },
    {
     "name": "stderr",
     "output_type": "stream",
     "text": [
      "d:\\python\\lib\\site-packages\\networkx\\drawing\\nx_pylab.py:579: MatplotlibDeprecationWarning: \n",
      "The iterable function was deprecated in Matplotlib 3.1 and will be removed in 3.3. Use np.iterable instead.\n",
      "  if not cb.iterable(width):\n",
      "d:\\python\\lib\\site-packages\\networkx\\drawing\\nx_pylab.py:676: MatplotlibDeprecationWarning: \n",
      "The iterable function was deprecated in Matplotlib 3.1 and will be removed in 3.3. Use np.iterable instead.\n",
      "  if cb.iterable(node_size):  # many node sizes\n"
     ]
    },
    {
     "data": {
      "image/png": "[encoded data removed]",
      "text/plain": [
       "<Figure size 432x288 with 1 Axes>"
      ]
     },
     "metadata": {},
     "output_type": "display_data"
    },
    {
     "name": "stdout",
     "output_type": "stream",
     "text": [
      "[[0 1 0 0]\n",
      " [0 0 1 0]\n",
      " [0 0 0 1]\n",
      " [1 0 0 0]]\n",
      "[-2, 1, 1, 1, 1, 0, 0, 0, 1, 1, 0, 0, 1, 1, 0, 0]\n",
      "[1, -2, 1, 1, 0, 1, 0, 0, 0, 1, 1, 0, 0, 1, 1, 0]\n",
      "[1, 1, -2, 1, 0, 0, 1, 0, 0, 0, 1, 1, 0, 0, 1, 1]\n",
      "[1, 1, 1, -2, 0, 0, 0, 1, 1, 0, 0, 1, 1, 0, 0, 1]\n",
      "[1, 1, 0, 0, -2, 1, 1, 1, 1, 0, 0, 0, 1, 1, 0, 0]\n",
      "[0, 1, 1, 0, 1, -2, 1, 1, 0, 1, 0, 0, 0, 1, 1, 0]\n",
      "[0, 0, 1, 1, 1, 1, -2, 1, 0, 0, 1, 0, 0, 0, 1, 1]\n",
      "[1, 0, 0, 1, 1, 1, 1, -2, 0, 0, 0, 1, 1, 0, 0, 1]\n",
      "[1, 1, 0, 0, 1, 1, 0, 0, -2, 1, 1, 1, 1, 0, 0, 0]\n",
      "[0, 1, 1, 0, 0, 1, 1, 0, 1, -2, 1, 1, 0, 1, 0, 0]\n",
      "[0, 0, 1, 1, 0, 0, 1, 1, 1, 1, -2, 1, 0, 0, 1, 0]\n",
      "[1, 0, 0, 1, 1, 0, 0, 1, 1, 1, 1, -2, 0, 0, 0, 1]\n",
      "[1, 0, 0, 0, 1, 1, 0, 0, 1, 1, 0, 0, -2, 1, 1, 1]\n",
      "[0, 1, 0, 0, 0, 1, 1, 0, 0, 1, 1, 0, 1, -2, 1, 1]\n",
      "[0, 0, 1, 0, 0, 0, 1, 1, 0, 0, 1, 1, 1, 1, -2, 1]\n",
      "[0, 0, 0, 1, 1, 0, 0, 1, 1, 0, 0, 1, 1, 1, 1, -2]\n",
      "{(0, 0): 0, (0, 1): 1, (0, 2): 2, (0, 3): 3, (1, 0): 4, (1, 1): 5, (1, 2): 6, (1, 3): 7, (2, 0): 8, (2, 1): 9, (2, 2): 10, (2, 3): 11, (3, 0): 12, (3, 1): 13, (3, 2): 14, (3, 3): 15}\n",
      "Sample: {0: 0, 1: 0, 2: 0, 3: 1, 4: 1, 5: 0, 6: 0, 7: 0, 8: 0, 9: 1, 10: 0, 11: 0, 12: 0, 13: 0, 14: 1, 15: 0} Energy:  -8.0 Occurrences:  3\n",
      "Sample: {0: 0, 1: 0, 2: 0, 3: 1, 4: 1, 5: 0, 6: 0, 7: 0, 8: 0, 9: 1, 10: 0, 11: 0, 12: 0, 13: 0, 14: 1, 15: 0} Energy:  -8.0 Occurrences:  8\n",
      "Sample: {0: 0, 1: 0, 2: 0, 3: 1, 4: 1, 5: 0, 6: 0, 7: 0, 8: 0, 9: 1, 10: 0, 11: 0, 12: 0, 13: 0, 14: 1, 15: 0} Energy:  -8.0 Occurrences:  2\n",
      "Sample: {0: 0, 1: 1, 2: 0, 3: 0, 4: 0, 5: 0, 6: 1, 7: 0, 8: 0, 9: 0, 10: 0, 11: 1, 12: 1, 13: 0, 14: 0, 15: 0} Energy:  -8.0 Occurrences:  1\n",
      "Sample: {0: 0, 1: 1, 2: 0, 3: 0, 4: 0, 5: 0, 6: 1, 7: 0, 8: 0, 9: 0, 10: 0, 11: 1, 12: 1, 13: 0, 14: 0, 15: 0} Energy:  -8.0 Occurrences:  1\n",
      "Sample: {0: 0, 1: 0, 2: 0, 3: 1, 4: 1, 5: 0, 6: 0, 7: 0, 8: 0, 9: 1, 10: 0, 11: 0, 12: 0, 13: 0, 14: 1, 15: 0} Energy:  -8.0 Occurrences:  2\n",
      "Sample: {0: 0, 1: 0, 2: 0, 3: 1, 4: 1, 5: 0, 6: 0, 7: 0, 8: 0, 9: 1, 10: 0, 11: 0, 12: 0, 13: 0, 14: 1, 15: 0} Energy:  -8.0 Occurrences:  5\n",
      "Sample: {0: 0, 1: 0, 2: 0, 3: 1, 4: 1, 5: 0, 6: 0, 7: 0, 8: 0, 9: 1, 10: 0, 11: 0, 12: 0, 13: 0, 14: 1, 15: 0} Energy:  -8.0 Occurrences:  2\n",
      "Sample: {0: 0, 1: 0, 2: 0, 3: 1, 4: 1, 5: 0, 6: 0, 7: 0, 8: 0, 9: 1, 10: 0, 11: 0, 12: 0, 13: 0, 14: 1, 15: 0} Energy:  -8.0 Occurrences:  1\n",
      "Sample: {0: 0, 1: 0, 2: 0, 3: 1, 4: 1, 5: 0, 6: 0, 7: 0, 8: 0, 9: 1, 10: 0, 11: 0, 12: 0, 13: 0, 14: 1, 15: 0} Energy:  -8.0 Occurrences:  4\n",
      "Sample: {0: 0, 1: 0, 2: 0, 3: 1, 4: 1, 5: 0, 6: 0, 7: 0, 8: 0, 9: 1, 10: 0, 11: 0, 12: 0, 13: 0, 14: 1, 15: 0} Energy:  -8.0 Occurrences:  6\n",
      "Sample: {0: 0, 1: 0, 2: 0, 3: 1, 4: 1, 5: 0, 6: 0, 7: 0, 8: 0, 9: 1, 10: 0, 11: 0, 12: 0, 13: 0, 14: 1, 15: 0} Energy:  -8.0 Occurrences:  2\n",
      "Sample: {0: 1, 1: 0, 2: 0, 3: 0, 4: 0, 5: 1, 6: 0, 7: 0, 8: 0, 9: 0, 10: 1, 11: 0, 12: 0, 13: 0, 14: 0, 15: 1} Energy:  -8.0 Occurrences:  1\n",
      "Sample: {0: 0, 1: 0, 2: 1, 3: 0, 4: 0, 5: 0, 6: 0, 7: 1, 8: 1, 9: 0, 10: 0, 11: 0, 12: 0, 13: 1, 14: 0, 15: 0} Energy:  -8.0 Occurrences:  3\n",
      "Sample: {0: 0, 1: 0, 2: 0, 3: 1, 4: 1, 5: 0, 6: 0, 7: 0, 8: 0, 9: 1, 10: 0, 11: 0, 12: 0, 13: 0, 14: 1, 15: 0} Energy:  -8.0 Occurrences:  5\n",
      "Sample: {0: 0, 1: 0, 2: 0, 3: 1, 4: 1, 5: 0, 6: 0, 7: 0, 8: 0, 9: 1, 10: 0, 11: 0, 12: 0, 13: 0, 14: 1, 15: 0} Energy:  -8.0 Occurrences:  1\n",
      "Sample: {0: 1, 1: 0, 2: 0, 3: 0, 4: 0, 5: 1, 6: 0, 7: 0, 8: 0, 9: 0, 10: 1, 11: 0, 12: 0, 13: 0, 14: 0, 15: 1} Energy:  -8.0 Occurrences:  1\n",
      "Sample: {0: 0, 1: 1, 2: 0, 3: 0, 4: 0, 5: 0, 6: 1, 7: 0, 8: 0, 9: 0, 10: 0, 11: 1, 12: 1, 13: 0, 14: 0, 15: 0} Energy:  -8.0 Occurrences:  1\n",
      "Sample: {0: 0, 1: 0, 2: 0, 3: 1, 4: 1, 5: 0, 6: 0, 7: 0, 8: 0, 9: 1, 10: 0, 11: 0, 12: 0, 13: 0, 14: 1, 15: 0} Energy:  -8.0 Occurrences:  14\n",
      "Sample: {0: 0, 1: 0, 2: 1, 3: 0, 4: 0, 5: 0, 6: 0, 7: 1, 8: 1, 9: 0, 10: 0, 11: 0, 12: 0, 13: 1, 14: 0, 15: 0} Energy:  -8.0 Occurrences:  4\n",
      "Sample: {0: 0, 1: 0, 2: 0, 3: 1, 4: 1, 5: 0, 6: 0, 7: 0, 8: 0, 9: 1, 10: 0, 11: 0, 12: 0, 13: 0, 14: 1, 15: 0} Energy:  -8.0 Occurrences:  2\n",
      "Sample: {0: 0, 1: 0, 2: 0, 3: 1, 4: 1, 5: 0, 6: 0, 7: 0, 8: 0, 9: 1, 10: 0, 11: 0, 12: 0, 13: 0, 14: 1, 15: 0} Energy:  -8.0 Occurrences:  2\n",
      "Sample: {0: 0, 1: 0, 2: 0, 3: 1, 4: 1, 5: 0, 6: 0, 7: 0, 8: 0, 9: 1, 10: 0, 11: 0, 12: 0, 13: 0, 14: 1, 15: 0} Energy:  -8.0 Occurrences:  8\n",
      "Sample: {0: 0, 1: 0, 2: 0, 3: 1, 4: 1, 5: 0, 6: 0, 7: 0, 8: 0, 9: 1, 10: 0, 11: 0, 12: 0, 13: 0, 14: 1, 15: 0} Energy:  -8.0 Occurrences:  20\n",
      "Sample: {0: 0, 1: 0, 2: 0, 3: 1, 4: 1, 5: 0, 6: 0, 7: 0, 8: 0, 9: 1, 10: 0, 11: 0, 12: 0, 13: 0, 14: 1, 15: 0} Energy:  -8.0 Occurrences:  1\n",
      "Sample: {0: 0, 1: 0, 2: 1, 3: 0, 4: 0, 5: 0, 6: 0, 7: 1, 8: 1, 9: 0, 10: 0, 11: 0, 12: 0, 13: 1, 14: 0, 15: 0} Energy:  -8.0 Occurrences:  9\n",
      "Sample: {0: 0, 1: 0, 2: 0, 3: 1, 4: 1, 5: 0, 6: 0, 7: 0, 8: 0, 9: 1, 10: 0, 11: 0, 12: 0, 13: 0, 14: 1, 15: 0} Energy:  -8.0 Occurrences:  2\n",
      "Sample: {0: 1, 1: 0, 2: 0, 3: 0, 4: 0, 5: 1, 6: 0, 7: 0, 8: 0, 9: 0, 10: 1, 11: 0, 12: 0, 13: 0, 14: 0, 15: 1} Energy:  -8.0 Occurrences:  3\n",
      "Sample: {0: 1, 1: 0, 2: 0, 3: 0, 4: 0, 5: 1, 6: 0, 7: 0, 8: 0, 9: 0, 10: 1, 11: 0, 12: 0, 13: 0, 14: 0, 15: 1} Energy:  -8.0 Occurrences:  1\n",
      "Sample: {0: 0, 1: 0, 2: 0, 3: 1, 4: 1, 5: 0, 6: 0, 7: 0, 8: 0, 9: 1, 10: 0, 11: 0, 12: 0, 13: 0, 14: 1, 15: 0} Energy:  -8.0 Occurrences:  2\n",
      "Sample: {0: 0, 1: 0, 2: 0, 3: 1, 4: 1, 5: 0, 6: 0, 7: 0, 8: 0, 9: 1, 10: 0, 11: 0, 12: 0, 13: 0, 14: 1, 15: 0} Energy:  -8.0 Occurrences:  9\n",
      "Sample: {0: 0, 1: 0, 2: 0, 3: 1, 4: 1, 5: 0, 6: 0, 7: 0, 8: 0, 9: 1, 10: 0, 11: 0, 12: 0, 13: 0, 14: 1, 15: 0} Energy:  -8.0 Occurrences:  5\n",
      "Sample: {0: 0, 1: 0, 2: 0, 3: 1, 4: 1, 5: 0, 6: 0, 7: 0, 8: 0, 9: 1, 10: 0, 11: 0, 12: 0, 13: 0, 14: 1, 15: 0} Energy:  -8.0 Occurrences:  14\n",
      "Sample: {0: 0, 1: 0, 2: 0, 3: 1, 4: 1, 5: 0, 6: 0, 7: 0, 8: 0, 9: 1, 10: 0, 11: 0, 12: 0, 13: 0, 14: 1, 15: 0} Energy:  -8.0 Occurrences:  3\n",
      "Sample: {0: 0, 1: 0, 2: 0, 3: 1, 4: 1, 5: 0, 6: 0, 7: 0, 8: 0, 9: 1, 10: 0, 11: 0, 12: 0, 13: 0, 14: 1, 15: 0} Energy:  -8.0 Occurrences:  1\n",
      "Sample: {0: 0, 1: 0, 2: 0, 3: 1, 4: 1, 5: 0, 6: 0, 7: 0, 8: 0, 9: 1, 10: 0, 11: 0, 12: 0, 13: 0, 14: 1, 15: 0} Energy:  -8.0 Occurrences:  1\n",
      "Sample: {0: 0, 1: 0, 2: 0, 3: 1, 4: 1, 5: 0, 6: 0, 7: 0, 8: 0, 9: 1, 10: 0, 11: 0, 12: 0, 13: 0, 14: 1, 15: 0} Energy:  -8.0 Occurrences:  6\n",
      "Sample: {0: 0, 1: 0, 2: 0, 3: 1, 4: 1, 5: 0, 6: 0, 7: 0, 8: 0, 9: 1, 10: 0, 11: 0, 12: 0, 13: 0, 14: 1, 15: 0} Energy:  -8.0 Occurrences:  3\n",
      "Sample: {0: 0, 1: 0, 2: 0, 3: 1, 4: 1, 5: 0, 6: 0, 7: 0, 8: 0, 9: 1, 10: 0, 11: 0, 12: 0, 13: 0, 14: 1, 15: 0} Energy:  -8.0 Occurrences:  3\n",
      "Sample: {0: 0, 1: 0, 2: 0, 3: 1, 4: 1, 5: 0, 6: 0, 7: 0, 8: 0, 9: 1, 10: 0, 11: 0, 12: 0, 13: 0, 14: 1, 15: 0} Energy:  -8.0 Occurrences:  3\n",
      "Sample: {0: 0, 1: 0, 2: 0, 3: 1, 4: 1, 5: 0, 6: 0, 7: 0, 8: 0, 9: 1, 10: 0, 11: 0, 12: 0, 13: 0, 14: 1, 15: 0} Energy:  -8.0 Occurrences:  1\n",
      "Sample: {0: 0, 1: 0, 2: 0, 3: 1, 4: 1, 5: 0, 6: 0, 7: 0, 8: 0, 9: 1, 10: 0, 11: 0, 12: 0, 13: 0, 14: 1, 15: 0} Energy:  -8.0 Occurrences:  4\n",
      "Sample: {0: 0, 1: 0, 2: 0, 3: 1, 4: 1, 5: 0, 6: 0, 7: 0, 8: 0, 9: 1, 10: 0, 11: 0, 12: 0, 13: 0, 14: 1, 15: 0} Energy:  -8.0 Occurrences:  3\n",
      "Sample: {0: 0, 1: 0, 2: 0, 3: 1, 4: 1, 5: 0, 6: 0, 7: 0, 8: 0, 9: 1, 10: 0, 11: 0, 12: 0, 13: 0, 14: 1, 15: 0} Energy:  -8.0 Occurrences:  1\n",
      "Sample: {0: 0, 1: 0, 2: 0, 3: 1, 4: 1, 5: 0, 6: 0, 7: 0, 8: 0, 9: 1, 10: 0, 11: 0, 12: 0, 13: 0, 14: 1, 15: 0} Energy:  -8.0 Occurrences:  2\n",
      "Sample: {0: 0, 1: 0, 2: 0, 3: 1, 4: 1, 5: 0, 6: 0, 7: 0, 8: 0, 9: 1, 10: 0, 11: 0, 12: 0, 13: 0, 14: 1, 15: 0} Energy:  -8.0 Occurrences:  1\n",
      "Sample: {0: 0, 1: 0, 2: 0, 3: 1, 4: 1, 5: 0, 6: 0, 7: 0, 8: 0, 9: 1, 10: 0, 11: 0, 12: 0, 13: 0, 14: 1, 15: 0} Energy:  -8.0 Occurrences:  1\n",
      "Sample: {0: 0, 1: 0, 2: 0, 3: 1, 4: 1, 5: 0, 6: 0, 7: 0, 8: 0, 9: 1, 10: 0, 11: 0, 12: 0, 13: 0, 14: 1, 15: 0} Energy:  -8.0 Occurrences:  1\n",
      "Sample: {0: 0, 1: 0, 2: 0, 3: 1, 4: 1, 5: 0, 6: 0, 7: 0, 8: 0, 9: 1, 10: 0, 11: 0, 12: 0, 13: 0, 14: 1, 15: 0} Energy:  -8.0 Occurrences:  2\n",
      "Sample: {0: 0, 1: 0, 2: 0, 3: 1, 4: 1, 5: 0, 6: 0, 7: 0, 8: 0, 9: 1, 10: 0, 11: 0, 12: 0, 13: 0, 14: 1, 15: 0} Energy:  -8.0 Occurrences:  1\n",
      "Sample: {0: 0, 1: 0, 2: 0, 3: 1, 4: 1, 5: 0, 6: 0, 7: 0, 8: 0, 9: 1, 10: 0, 11: 0, 12: 0, 13: 0, 14: 1, 15: 0} Energy:  -8.0 Occurrences:  2\n",
      "Sample: {0: 0, 1: 0, 2: 0, 3: 1, 4: 1, 5: 0, 6: 0, 7: 0, 8: 0, 9: 1, 10: 0, 11: 0, 12: 0, 13: 0, 14: 1, 15: 0} Energy:  -8.0 Occurrences:  1\n",
      "Sample: {0: 0, 1: 0, 2: 0, 3: 1, 4: 1, 5: 0, 6: 0, 7: 0, 8: 0, 9: 1, 10: 0, 11: 0, 12: 0, 13: 0, 14: 1, 15: 0} Energy:  -8.0 Occurrences:  1\n",
      "Sample: {0: 0, 1: 0, 2: 0, 3: 1, 4: 1, 5: 0, 6: 0, 7: 0, 8: 0, 9: 1, 10: 0, 11: 0, 12: 0, 13: 0, 14: 1, 15: 0} Energy:  -8.0 Occurrences:  1\n",
      "Sample: {0: 0, 1: 0, 2: 0, 3: 1, 4: 1, 5: 0, 6: 0, 7: 0, 8: 0, 9: 1, 10: 0, 11: 0, 12: 0, 13: 0, 14: 1, 15: 0} Energy:  -8.0 Occurrences:  1\n",
      "Sample: {0: 0, 1: 0, 2: 0, 3: 1, 4: 1, 5: 0, 6: 0, 7: 0, 8: 0, 9: 1, 10: 0, 11: 0, 12: 0, 13: 0, 14: 1, 15: 0} Energy:  -8.0 Occurrences:  1\n",
      "Sample: {0: 0, 1: 0, 2: 0, 3: 1, 4: 1, 5: 0, 6: 0, 7: 0, 8: 0, 9: 1, 10: 0, 11: 0, 12: 0, 13: 0, 14: 1, 15: 0} Energy:  -8.0 Occurrences:  1\n",
      "Sample: {0: 0, 1: 0, 2: 0, 3: 1, 4: 1, 5: 0, 6: 0, 7: 0, 8: 0, 9: 1, 10: 0, 11: 0, 12: 0, 13: 0, 14: 1, 15: 0} Energy:  -8.0 Occurrences:  1\n",
      "Sample: {0: 0, 1: 0, 2: 0, 3: 1, 4: 1, 5: 0, 6: 0, 7: 0, 8: 0, 9: 1, 10: 0, 11: 0, 12: 0, 13: 0, 14: 1, 15: 0} Energy:  -8.0 Occurrences:  1\n",
      "Sample: {0: 0, 1: 0, 2: 0, 3: 1, 4: 1, 5: 0, 6: 0, 7: 0, 8: 0, 9: 1, 10: 0, 11: 0, 12: 0, 13: 0, 14: 1, 15: 0} Energy:  -8.0 Occurrences:  1\n",
      "Sample: {0: 0, 1: 0, 2: 0, 3: 1, 4: 1, 5: 0, 6: 0, 7: 0, 8: 0, 9: 1, 10: 0, 11: 0, 12: 0, 13: 0, 14: 1, 15: 0} Energy:  -8.0 Occurrences:  1\n",
      "Sample: {0: 0, 1: 0, 2: 0, 3: 1, 4: 1, 5: 0, 6: 0, 7: 0, 8: 0, 9: 1, 10: 0, 11: 0, 12: 0, 13: 0, 14: 1, 15: 0} Energy:  -8.0 Occurrences:  1\n",
      "Sample: {0: 0, 1: 0, 2: 1, 3: 0, 4: 0, 5: 0, 6: 0, 7: 1, 8: 1, 9: 0, 10: 0, 11: 0, 12: 0, 13: 1, 14: 0, 15: 0} Energy:  -8.0 Occurrences:  1\n",
      "Sample: {0: 0, 1: 0, 2: 0, 3: 1, 4: 1, 5: 0, 6: 0, 7: 0, 8: 0, 9: 1, 10: 0, 11: 0, 12: 0, 13: 0, 14: 1, 15: 0} Energy:  -8.0 Occurrences:  1\n",
      "Sample: {0: 0, 1: 0, 2: 0, 3: 1, 4: 1, 5: 0, 6: 0, 7: 0, 8: 0, 9: 1, 10: 0, 11: 0, 12: 0, 13: 0, 14: 1, 15: 0} Energy:  -8.0 Occurrences:  2\n",
      "Sample: {0: 0, 1: 0, 2: 0, 3: 1, 4: 1, 5: 0, 6: 0, 7: 0, 8: 0, 9: 1, 10: 0, 11: 0, 12: 0, 13: 0, 14: 1, 15: 0} Energy:  -8.0 Occurrences:  3\n",
      "Sample: {0: 0, 1: 0, 2: 0, 3: 1, 4: 1, 5: 0, 6: 0, 7: 0, 8: 0, 9: 1, 10: 0, 11: 0, 12: 0, 13: 0, 14: 1, 15: 0} Energy:  -8.0 Occurrences:  1\n",
      "Sample: {0: 0, 1: 0, 2: 0, 3: 1, 4: 1, 5: 0, 6: 0, 7: 0, 8: 0, 9: 1, 10: 0, 11: 0, 12: 0, 13: 0, 14: 1, 15: 0} Energy:  -8.0 Occurrences:  1\n",
      "Sample: {0: 0, 1: 1, 2: 0, 3: 0, 4: 0, 5: 0, 6: 1, 7: 0, 8: 0, 9: 0, 10: 0, 11: 1, 12: 1, 13: 0, 14: 0, 15: 0} Energy:  -8.0 Occurrences:  1\n",
      "Sample: {0: 0, 1: 1, 2: 0, 3: 0, 4: 0, 5: 0, 6: 1, 7: 0, 8: 0, 9: 0, 10: 0, 11: 1, 12: 1, 13: 0, 14: 0, 15: 0} Energy:  -8.0 Occurrences:  1\n",
      "Sample: {0: 0, 1: 0, 2: 0, 3: 1, 4: 1, 5: 0, 6: 0, 7: 0, 8: 0, 9: 1, 10: 0, 11: 0, 12: 0, 13: 0, 14: 1, 15: 0} Energy:  -8.0 Occurrences:  2\n",
      "Sample: {0: 0, 1: 0, 2: 0, 3: 1, 4: 1, 5: 0, 6: 0, 7: 0, 8: 0, 9: 1, 10: 0, 11: 0, 12: 0, 13: 0, 14: 1, 15: 0} Energy:  -8.0 Occurrences:  1\n",
      "Sample: {0: 0, 1: 0, 2: 0, 3: 1, 4: 1, 5: 0, 6: 0, 7: 0, 8: 0, 9: 1, 10: 0, 11: 0, 12: 0, 13: 0, 14: 1, 15: 0} Energy:  -8.0 Occurrences:  10\n",
      "Sample: {0: 0, 1: 0, 2: 0, 3: 1, 4: 1, 5: 0, 6: 0, 7: 0, 8: 0, 9: 1, 10: 0, 11: 0, 12: 0, 13: 0, 14: 1, 15: 0} Energy:  -8.0 Occurrences:  1\n",
      "Sample: {0: 0, 1: 0, 2: 0, 3: 1, 4: 1, 5: 0, 6: 0, 7: 0, 8: 0, 9: 1, 10: 0, 11: 0, 12: 0, 13: 0, 14: 1, 15: 0} Energy:  -8.0 Occurrences:  1\n",
      "Sample: {0: 0, 1: 0, 2: 0, 3: 1, 4: 1, 5: 0, 6: 0, 7: 0, 8: 0, 9: 1, 10: 0, 11: 0, 12: 0, 13: 0, 14: 1, 15: 0} Energy:  -8.0 Occurrences:  1\n",
      "Sample: {0: 0, 1: 0, 2: 0, 3: 1, 4: 1, 5: 0, 6: 0, 7: 0, 8: 0, 9: 1, 10: 0, 11: 0, 12: 0, 13: 0, 14: 1, 15: 0} Energy:  -8.0 Occurrences:  1\n",
      "Sample: {0: 0, 1: 0, 2: 0, 3: 1, 4: 1, 5: 0, 6: 0, 7: 0, 8: 0, 9: 1, 10: 0, 11: 0, 12: 0, 13: 0, 14: 1, 15: 0} Energy:  -8.0 Occurrences:  1\n",
      "Sample: {0: 0, 1: 0, 2: 0, 3: 1, 4: 1, 5: 0, 6: 0, 7: 0, 8: 0, 9: 1, 10: 0, 11: 0, 12: 0, 13: 0, 14: 1, 15: 0} Energy:  -8.0 Occurrences:  1\n",
      "Sample: {0: 0, 1: 0, 2: 0, 3: 1, 4: 1, 5: 0, 6: 0, 7: 0, 8: 0, 9: 1, 10: 0, 11: 0, 12: 0, 13: 0, 14: 1, 15: 0} Energy:  -8.0 Occurrences:  1\n",
      "Sample: {0: 0, 1: 0, 2: 0, 3: 1, 4: 1, 5: 0, 6: 0, 7: 0, 8: 0, 9: 1, 10: 0, 11: 0, 12: 0, 13: 0, 14: 1, 15: 0} Energy:  -8.0 Occurrences:  1\n",
      "Sample: {0: 0, 1: 0, 2: 0, 3: 1, 4: 1, 5: 0, 6: 0, 7: 0, 8: 0, 9: 1, 10: 0, 11: 0, 12: 0, 13: 0, 14: 1, 15: 0} Energy:  -8.0 Occurrences:  1\n",
      "Sample: {0: 0, 1: 0, 2: 0, 3: 1, 4: 1, 5: 0, 6: 0, 7: 0, 8: 0, 9: 1, 10: 0, 11: 0, 12: 0, 13: 0, 14: 1, 15: 0} Energy:  -8.0 Occurrences:  2\n",
      "Sample: {0: 0, 1: 0, 2: 0, 3: 1, 4: 1, 5: 0, 6: 0, 7: 0, 8: 0, 9: 1, 10: 0, 11: 0, 12: 0, 13: 0, 14: 1, 15: 0} Energy:  -8.0 Occurrences:  1\n",
      "Sample: {0: 0, 1: 0, 2: 0, 3: 1, 4: 1, 5: 0, 6: 0, 7: 0, 8: 0, 9: 1, 10: 0, 11: 0, 12: 0, 13: 0, 14: 1, 15: 0} Energy:  -8.0 Occurrences:  24\n",
      "Sample: {0: 0, 1: 0, 2: 0, 3: 1, 4: 1, 5: 0, 6: 0, 7: 0, 8: 0, 9: 1, 10: 0, 11: 0, 12: 0, 13: 0, 14: 1, 15: 0} Energy:  -8.0 Occurrences:  4\n",
      "Sample: {0: 0, 1: 1, 2: 0, 3: 0, 4: 0, 5: 0, 6: 1, 7: 0, 8: 0, 9: 0, 10: 0, 11: 1, 12: 1, 13: 0, 14: 0, 15: 0} Energy:  -8.0 Occurrences:  3\n",
      "Sample: {0: 0, 1: 1, 2: 0, 3: 0, 4: 0, 5: 0, 6: 1, 7: 0, 8: 0, 9: 0, 10: 0, 11: 1, 12: 1, 13: 0, 14: 0, 15: 0} Energy:  -8.0 Occurrences:  5\n",
      "Sample: {0: 0, 1: 1, 2: 0, 3: 0, 4: 0, 5: 0, 6: 1, 7: 0, 8: 0, 9: 0, 10: 0, 11: 1, 12: 1, 13: 0, 14: 0, 15: 0} Energy:  -8.0 Occurrences:  10\n",
      "Sample: {0: 0, 1: 1, 2: 0, 3: 0, 4: 0, 5: 0, 6: 1, 7: 0, 8: 0, 9: 0, 10: 0, 11: 1, 12: 1, 13: 0, 14: 0, 15: 0} Energy:  -8.0 Occurrences:  2\n",
      "Sample: {0: 1, 1: 0, 2: 0, 3: 0, 4: 0, 5: 1, 6: 0, 7: 0, 8: 0, 9: 0, 10: 1, 11: 0, 12: 0, 13: 0, 14: 0, 15: 1} Energy:  -8.0 Occurrences:  1\n",
      "Sample: {0: 0, 1: 1, 2: 0, 3: 0, 4: 0, 5: 0, 6: 1, 7: 0, 8: 0, 9: 0, 10: 0, 11: 1, 12: 1, 13: 0, 14: 0, 15: 0} Energy:  -8.0 Occurrences:  6\n",
      "Sample: {0: 0, 1: 0, 2: 0, 3: 1, 4: 1, 5: 0, 6: 0, 7: 0, 8: 0, 9: 1, 10: 0, 11: 0, 12: 0, 13: 0, 14: 1, 15: 0} Energy:  -8.0 Occurrences:  27\n",
      "Sample: {0: 0, 1: 1, 2: 0, 3: 0, 4: 0, 5: 0, 6: 1, 7: 0, 8: 0, 9: 0, 10: 0, 11: 1, 12: 1, 13: 0, 14: 0, 15: 0} Energy:  -8.0 Occurrences:  6\n",
      "Sample: {0: 0, 1: 0, 2: 0, 3: 1, 4: 1, 5: 0, 6: 0, 7: 0, 8: 0, 9: 1, 10: 0, 11: 0, 12: 0, 13: 0, 14: 1, 15: 0} Energy:  -8.0 Occurrences:  110\n",
      "Sample: {0: 0, 1: 0, 2: 0, 3: 1, 4: 1, 5: 0, 6: 0, 7: 0, 8: 0, 9: 1, 10: 0, 11: 0, 12: 0, 13: 0, 14: 1, 15: 0} Energy:  -8.0 Occurrences:  38\n",
      "Sample: {0: 0, 1: 0, 2: 0, 3: 1, 4: 1, 5: 0, 6: 0, 7: 0, 8: 0, 9: 1, 10: 0, 11: 0, 12: 0, 13: 0, 14: 1, 15: 0} Energy:  -8.0 Occurrences:  54\n",
      "Sample: {0: 0, 1: 0, 2: 0, 3: 1, 4: 1, 5: 0, 6: 0, 7: 0, 8: 0, 9: 1, 10: 0, 11: 0, 12: 0, 13: 0, 14: 1, 15: 0} Energy:  -8.0 Occurrences:  138\n",
      "Sample: {0: 0, 1: 0, 2: 0, 3: 1, 4: 1, 5: 0, 6: 0, 7: 0, 8: 0, 9: 1, 10: 0, 11: 0, 12: 0, 13: 0, 14: 1, 15: 0} Energy:  -8.0 Occurrences:  45\n",
      "Sample: {0: 0, 1: 0, 2: 0, 3: 1, 4: 1, 5: 0, 6: 0, 7: 0, 8: 0, 9: 1, 10: 0, 11: 0, 12: 0, 13: 0, 14: 1, 15: 0} Energy:  -8.0 Occurrences:  14\n",
      "Sample: {0: 0, 1: 0, 2: 0, 3: 1, 4: 1, 5: 0, 6: 0, 7: 0, 8: 0, 9: 1, 10: 0, 11: 0, 12: 0, 13: 0, 14: 1, 15: 0} Energy:  -8.0 Occurrences:  4\n",
      "Sample: {0: 0, 1: 0, 2: 1, 3: 0, 4: 0, 5: 0, 6: 0, 7: 1, 8: 1, 9: 0, 10: 0, 11: 0, 12: 0, 13: 1, 14: 0, 15: 0} Energy:  -8.0 Occurrences:  5\n",
      "Sample: {0: 0, 1: 0, 2: 0, 3: 1, 4: 1, 5: 0, 6: 0, 7: 0, 8: 0, 9: 1, 10: 0, 11: 0, 12: 0, 13: 0, 14: 1, 15: 0} Energy:  -8.0 Occurrences:  17\n",
      "Sample: {0: 0, 1: 1, 2: 0, 3: 0, 4: 0, 5: 0, 6: 1, 7: 0, 8: 0, 9: 0, 10: 0, 11: 1, 12: 1, 13: 0, 14: 0, 15: 0} Energy:  -8.0 Occurrences:  7\n",
      "Sample: {0: 0, 1: 1, 2: 0, 3: 0, 4: 0, 5: 0, 6: 1, 7: 0, 8: 0, 9: 0, 10: 0, 11: 1, 12: 1, 13: 0, 14: 0, 15: 0} Energy:  -8.0 Occurrences:  2\n",
      "Sample: {0: 0, 1: 0, 2: 1, 3: 0, 4: 0, 5: 0, 6: 0, 7: 1, 8: 1, 9: 0, 10: 0, 11: 0, 12: 0, 13: 1, 14: 0, 15: 0} Energy:  -8.0 Occurrences:  1\n",
      "Sample: {0: 0, 1: 0, 2: 1, 3: 0, 4: 0, 5: 0, 6: 0, 7: 1, 8: 1, 9: 0, 10: 0, 11: 0, 12: 0, 13: 1, 14: 0, 15: 0} Energy:  -8.0 Occurrences:  750\n",
      "Sample: {0: 0, 1: 0, 2: 0, 3: 1, 4: 1, 5: 0, 6: 0, 7: 0, 8: 0, 9: 1, 10: 0, 11: 0, 12: 0, 13: 0, 14: 1, 15: 0} Energy:  -8.0 Occurrences:  1\n",
      "Sample: {0: 0, 1: 0, 2: 1, 3: 0, 4: 0, 5: 0, 6: 0, 7: 1, 8: 1, 9: 0, 10: 0, 11: 0, 12: 0, 13: 1, 14: 0, 15: 0} Energy:  -8.0 Occurrences:  22\n",
      "Sample: {0: 0, 1: 0, 2: 1, 3: 0, 4: 0, 5: 0, 6: 0, 7: 1, 8: 1, 9: 0, 10: 0, 11: 0, 12: 0, 13: 1, 14: 0, 15: 0} Energy:  -8.0 Occurrences:  15\n",
      "Sample: {0: 0, 1: 0, 2: 1, 3: 0, 4: 0, 5: 0, 6: 0, 7: 1, 8: 1, 9: 0, 10: 0, 11: 0, 12: 0, 13: 1, 14: 0, 15: 0} Energy:  -8.0 Occurrences:  70\n",
      "Sample: {0: 0, 1: 0, 2: 1, 3: 0, 4: 0, 5: 0, 6: 0, 7: 1, 8: 1, 9: 0, 10: 0, 11: 0, 12: 0, 13: 1, 14: 0, 15: 0} Energy:  -8.0 Occurrences:  2\n",
      "Sample: {0: 0, 1: 1, 2: 0, 3: 0, 4: 0, 5: 0, 6: 1, 7: 0, 8: 0, 9: 0, 10: 0, 11: 1, 12: 1, 13: 0, 14: 0, 15: 0} Energy:  -8.0 Occurrences:  13\n",
      "Sample: {0: 0, 1: 1, 2: 0, 3: 0, 4: 0, 5: 0, 6: 1, 7: 0, 8: 0, 9: 0, 10: 0, 11: 1, 12: 1, 13: 0, 14: 0, 15: 0} Energy:  -8.0 Occurrences:  41\n",
      "Sample: {0: 0, 1: 1, 2: 0, 3: 0, 4: 0, 5: 0, 6: 1, 7: 0, 8: 0, 9: 0, 10: 0, 11: 1, 12: 1, 13: 0, 14: 0, 15: 0} Energy:  -8.0 Occurrences:  34\n",
      "Sample: {0: 1, 1: 0, 2: 0, 3: 0, 4: 0, 5: 1, 6: 0, 7: 0, 8: 0, 9: 0, 10: 1, 11: 0, 12: 0, 13: 0, 14: 0, 15: 1} Energy:  -8.0 Occurrences:  45\n",
      "Sample: {0: 0, 1: 1, 2: 0, 3: 0, 4: 0, 5: 0, 6: 1, 7: 0, 8: 0, 9: 0, 10: 0, 11: 1, 12: 1, 13: 0, 14: 0, 15: 0} Energy:  -8.0 Occurrences:  16\n",
      "Sample: {0: 0, 1: 0, 2: 0, 3: 1, 4: 1, 5: 0, 6: 0, 7: 0, 8: 0, 9: 1, 10: 0, 11: 0, 12: 0, 13: 0, 14: 1, 15: 0} Energy:  -8.0 Occurrences:  95\n",
      "Sample: {0: 0, 1: 0, 2: 0, 3: 1, 4: 1, 5: 0, 6: 0, 7: 0, 8: 0, 9: 1, 10: 0, 11: 0, 12: 0, 13: 0, 14: 1, 15: 0} Energy:  -8.0 Occurrences:  545\n",
      "Sample: {0: 0, 1: 0, 2: 0, 3: 1, 4: 1, 5: 0, 6: 0, 7: 0, 8: 0, 9: 1, 10: 0, 11: 0, 12: 0, 13: 0, 14: 1, 15: 0} Energy:  -8.0 Occurrences:  301\n",
      "Sample: {0: 0, 1: 0, 2: 0, 3: 1, 4: 1, 5: 0, 6: 0, 7: 0, 8: 0, 9: 1, 10: 0, 11: 0, 12: 0, 13: 0, 14: 1, 15: 0} Energy:  -8.0 Occurrences:  166\n",
      "Sample: {0: 0, 1: 0, 2: 1, 3: 0, 4: 0, 5: 0, 6: 0, 7: 1, 8: 1, 9: 0, 10: 0, 11: 0, 12: 0, 13: 1, 14: 0, 15: 0} Energy:  -8.0 Occurrences:  5\n",
      "Sample: {0: 1, 1: 0, 2: 0, 3: 0, 4: 0, 5: 1, 6: 0, 7: 0, 8: 0, 9: 0, 10: 1, 11: 0, 12: 0, 13: 0, 14: 0, 15: 1} Energy:  -8.0 Occurrences:  19\n",
      "Sample: {0: 1, 1: 0, 2: 0, 3: 0, 4: 0, 5: 1, 6: 0, 7: 0, 8: 0, 9: 0, 10: 1, 11: 0, 12: 0, 13: 0, 14: 0, 15: 1} Energy:  -8.0 Occurrences:  4\n",
      "Sample: {0: 0, 1: 0, 2: 0, 3: 1, 4: 1, 5: 0, 6: 0, 7: 0, 8: 0, 9: 1, 10: 0, 11: 0, 12: 0, 13: 0, 14: 1, 15: 0} Energy:  -8.0 Occurrences:  87\n",
      "Sample: {0: 0, 1: 0, 2: 1, 3: 0, 4: 0, 5: 0, 6: 0, 7: 1, 8: 1, 9: 0, 10: 0, 11: 0, 12: 0, 13: 1, 14: 0, 15: 0} Energy:  -8.0 Occurrences:  1\n",
      "Sample: {0: 0, 1: 0, 2: 0, 3: 1, 4: 1, 5: 0, 6: 0, 7: 0, 8: 0, 9: 1, 10: 0, 11: 0, 12: 0, 13: 0, 14: 1, 15: 0} Energy:  -8.0 Occurrences:  13\n",
      "Sample: {0: 0, 1: 0, 2: 0, 3: 1, 4: 1, 5: 0, 6: 0, 7: 0, 8: 0, 9: 1, 10: 0, 11: 0, 12: 0, 13: 0, 14: 1, 15: 0} Energy:  -8.0 Occurrences:  19\n",
      "Sample: {0: 0, 1: 0, 2: 0, 3: 1, 4: 1, 5: 0, 6: 0, 7: 0, 8: 0, 9: 1, 10: 0, 11: 0, 12: 0, 13: 0, 14: 1, 15: 0} Energy:  -8.0 Occurrences:  8\n",
      "Sample: {0: 0, 1: 0, 2: 0, 3: 1, 4: 1, 5: 0, 6: 0, 7: 0, 8: 0, 9: 1, 10: 0, 11: 0, 12: 0, 13: 0, 14: 1, 15: 0} Energy:  -8.0 Occurrences:  13\n",
      "Sample: {0: 0, 1: 0, 2: 0, 3: 1, 4: 1, 5: 0, 6: 0, 7: 0, 8: 0, 9: 1, 10: 0, 11: 0, 12: 0, 13: 0, 14: 1, 15: 0} Energy:  -8.0 Occurrences:  7\n",
      "Sample: {0: 0, 1: 0, 2: 0, 3: 1, 4: 1, 5: 0, 6: 0, 7: 0, 8: 0, 9: 1, 10: 0, 11: 0, 12: 0, 13: 0, 14: 1, 15: 0} Energy:  -8.0 Occurrences:  7\n",
      "Sample: {0: 0, 1: 0, 2: 0, 3: 1, 4: 1, 5: 0, 6: 0, 7: 0, 8: 0, 9: 1, 10: 0, 11: 0, 12: 0, 13: 0, 14: 1, 15: 0} Energy:  -8.0 Occurrences:  26\n",
      "Sample: {0: 0, 1: 0, 2: 0, 3: 1, 4: 1, 5: 0, 6: 0, 7: 0, 8: 0, 9: 1, 10: 0, 11: 0, 12: 0, 13: 0, 14: 1, 15: 0} Energy:  -8.0 Occurrences:  4\n",
      "Sample: {0: 0, 1: 0, 2: 1, 3: 0, 4: 0, 5: 0, 6: 0, 7: 1, 8: 1, 9: 0, 10: 0, 11: 0, 12: 0, 13: 1, 14: 0, 15: 0} Energy:  -8.0 Occurrences:  1\n",
      "Sample: {0: 0, 1: 0, 2: 0, 3: 1, 4: 1, 5: 0, 6: 0, 7: 0, 8: 0, 9: 1, 10: 0, 11: 0, 12: 0, 13: 0, 14: 1, 15: 0} Energy:  -8.0 Occurrences:  1\n",
      "Sample: {0: 0, 1: 0, 2: 0, 3: 1, 4: 1, 5: 0, 6: 0, 7: 0, 8: 0, 9: 1, 10: 0, 11: 0, 12: 0, 13: 0, 14: 1, 15: 0} Energy:  -8.0 Occurrences:  1\n",
      "Sample: {0: 0, 1: 0, 2: 1, 3: 0, 4: 0, 5: 0, 6: 0, 7: 1, 8: 1, 9: 0, 10: 0, 11: 0, 12: 0, 13: 1, 14: 0, 15: 0} Energy:  -8.0 Occurrences:  1\n",
      "Sample: {0: 0, 1: 0, 2: 0, 3: 1, 4: 1, 5: 0, 6: 0, 7: 0, 8: 0, 9: 1, 10: 0, 11: 0, 12: 0, 13: 0, 14: 1, 15: 0} Energy:  -8.0 Occurrences:  1\n",
      "Sample: {0: 0, 1: 0, 2: 0, 3: 1, 4: 1, 5: 0, 6: 0, 7: 0, 8: 0, 9: 1, 10: 0, 11: 0, 12: 0, 13: 0, 14: 1, 15: 0} Energy:  -8.0 Occurrences:  1\n",
      "Sample: {0: 0, 1: 0, 2: 0, 3: 1, 4: 1, 5: 0, 6: 0, 7: 0, 8: 0, 9: 1, 10: 0, 11: 0, 12: 0, 13: 0, 14: 1, 15: 0} Energy:  -8.0 Occurrences:  10\n",
      "Sample: {0: 0, 1: 0, 2: 0, 3: 1, 4: 1, 5: 0, 6: 0, 7: 0, 8: 0, 9: 1, 10: 0, 11: 0, 12: 0, 13: 0, 14: 1, 15: 0} Energy:  -8.0 Occurrences:  2\n",
      "Sample: {0: 0, 1: 1, 2: 0, 3: 0, 4: 0, 5: 0, 6: 1, 7: 0, 8: 0, 9: 0, 10: 0, 11: 1, 12: 1, 13: 0, 14: 0, 15: 0} Energy:  -8.0 Occurrences:  1\n",
      "Sample: {0: 0, 1: 0, 2: 0, 3: 1, 4: 1, 5: 0, 6: 0, 7: 0, 8: 0, 9: 1, 10: 0, 11: 0, 12: 0, 13: 0, 14: 1, 15: 0} Energy:  -8.0 Occurrences:  3\n",
      "Sample: {0: 0, 1: 0, 2: 0, 3: 1, 4: 1, 5: 0, 6: 0, 7: 0, 8: 0, 9: 1, 10: 0, 11: 0, 12: 0, 13: 0, 14: 1, 15: 0} Energy:  -8.0 Occurrences:  10\n",
      "Sample: {0: 0, 1: 0, 2: 0, 3: 1, 4: 1, 5: 0, 6: 0, 7: 0, 8: 0, 9: 1, 10: 0, 11: 0, 12: 0, 13: 0, 14: 1, 15: 0} Energy:  -8.0 Occurrences:  8\n",
      "Sample: {0: 0, 1: 0, 2: 0, 3: 1, 4: 1, 5: 0, 6: 0, 7: 0, 8: 0, 9: 1, 10: 0, 11: 0, 12: 0, 13: 0, 14: 1, 15: 0} Energy:  -8.0 Occurrences:  54\n",
      "Sample: {0: 0, 1: 0, 2: 1, 3: 0, 4: 0, 5: 0, 6: 0, 7: 1, 8: 1, 9: 0, 10: 0, 11: 0, 12: 0, 13: 1, 14: 0, 15: 0} Energy:  -8.0 Occurrences:  2\n",
      "Sample: {0: 0, 1: 0, 2: 1, 3: 0, 4: 0, 5: 0, 6: 0, 7: 1, 8: 1, 9: 0, 10: 0, 11: 0, 12: 0, 13: 1, 14: 0, 15: 0} Energy:  -8.0 Occurrences:  2\n",
      "Sample: {0: 0, 1: 0, 2: 0, 3: 1, 4: 1, 5: 0, 6: 0, 7: 0, 8: 0, 9: 1, 10: 0, 11: 0, 12: 0, 13: 0, 14: 1, 15: 0} Energy:  -8.0 Occurrences:  1\n",
      "Sample: {0: 0, 1: 0, 2: 0, 3: 1, 4: 1, 5: 0, 6: 0, 7: 0, 8: 0, 9: 1, 10: 0, 11: 0, 12: 0, 13: 0, 14: 1, 15: 0} Energy:  -8.0 Occurrences:  1\n",
      "Sample: {0: 0, 1: 0, 2: 0, 3: 1, 4: 1, 5: 0, 6: 0, 7: 0, 8: 0, 9: 1, 10: 0, 11: 0, 12: 0, 13: 0, 14: 1, 15: 0} Energy:  -8.0 Occurrences:  28\n",
      "Sample: {0: 0, 1: 0, 2: 0, 3: 1, 4: 1, 5: 0, 6: 0, 7: 0, 8: 0, 9: 1, 10: 0, 11: 0, 12: 0, 13: 0, 14: 1, 15: 0} Energy:  -8.0 Occurrences:  1\n",
      "Sample: {0: 0, 1: 0, 2: 1, 3: 0, 4: 0, 5: 0, 6: 0, 7: 1, 8: 1, 9: 0, 10: 0, 11: 0, 12: 0, 13: 1, 14: 0, 15: 0} Energy:  -8.0 Occurrences:  1\n",
      "Sample: {0: 0, 1: 0, 2: 1, 3: 0, 4: 0, 5: 0, 6: 0, 7: 1, 8: 1, 9: 0, 10: 0, 11: 0, 12: 0, 13: 1, 14: 0, 15: 0} Energy:  -8.0 Occurrences:  1\n",
      "Sample: {0: 0, 1: 0, 2: 1, 3: 0, 4: 0, 5: 0, 6: 0, 7: 1, 8: 1, 9: 0, 10: 0, 11: 0, 12: 0, 13: 1, 14: 0, 15: 0} Energy:  -8.0 Occurrences:  1\n",
      "Sample: {0: 0, 1: 1, 2: 0, 3: 0, 4: 0, 5: 0, 6: 1, 7: 0, 8: 0, 9: 0, 10: 0, 11: 1, 12: 1, 13: 0, 14: 0, 15: 0} Energy:  -8.0 Occurrences:  3\n",
      "Sample: {0: 0, 1: 1, 2: 0, 3: 0, 4: 0, 5: 0, 6: 1, 7: 0, 8: 0, 9: 0, 10: 0, 11: 1, 12: 1, 13: 0, 14: 0, 15: 0} Energy:  -8.0 Occurrences:  3\n",
      "Sample: {0: 1, 1: 0, 2: 0, 3: 0, 4: 0, 5: 1, 6: 0, 7: 0, 8: 0, 9: 0, 10: 1, 11: 0, 12: 0, 13: 0, 14: 0, 15: 1} Energy:  -8.0 Occurrences:  1\n",
      "Sample: {0: 1, 1: 0, 2: 0, 3: 0, 4: 0, 5: 1, 6: 0, 7: 0, 8: 0, 9: 0, 10: 1, 11: 0, 12: 0, 13: 0, 14: 0, 15: 1} Energy:  -8.0 Occurrences:  2\n",
      "Sample: {0: 0, 1: 0, 2: 0, 3: 1, 4: 1, 5: 0, 6: 0, 7: 0, 8: 0, 9: 1, 10: 0, 11: 0, 12: 0, 13: 0, 14: 1, 15: 0} Energy:  -8.0 Occurrences:  12\n",
      "Sample: {0: 0, 1: 0, 2: 0, 3: 1, 4: 1, 5: 0, 6: 0, 7: 0, 8: 0, 9: 1, 10: 0, 11: 0, 12: 0, 13: 0, 14: 1, 15: 0} Energy:  -8.0 Occurrences:  1\n",
      "Sample: {0: 0, 1: 0, 2: 0, 3: 1, 4: 1, 5: 0, 6: 0, 7: 0, 8: 0, 9: 1, 10: 0, 11: 0, 12: 0, 13: 0, 14: 1, 15: 0} Energy:  -8.0 Occurrences:  1\n"
     ]
    }
   ],
   "source": [
    "G = graph(7, 4)\n",
    "M = matrix(G)\n",
    "print(M)\n",
    "len_M = len(M)\n",
    "\n",
    "qubo = generate_qubo(M)\n",
    "Q = qubo[0]\n",
    "vD = qubo[1]\n",
    "\n",
    "for i in range(len_M*len_M):\n",
    "    print([Q[i,j] for j in range(len_M*len_M)])\n",
    "\n",
    "print(vD)\n",
    "d = dwave(Q, len_M, vD)\n"
   ]
  },
  {
   "cell_type": "code",
   "execution_count": 213,
   "metadata": {},
   "outputs": [
    {
     "name": "stdout",
     "output_type": "stream",
     "text": [
      "[[1, 2, 3, 0], [3, 0, 1, 2], [2, 3, 0, 1], [0, 1, 2, 3]]\n",
      "way 0 = ['CTTG', 'TTGG', 'TGGC', 'GCTT']\n",
      "way 1 = ['TGGC', 'GCTT', 'CTTG', 'TTGG']\n",
      "way 2 = ['TTGG', 'TGGC', 'GCTT', 'CTTG']\n",
      "way 3 = ['GCTT', 'CTTG', 'TTGG', 'TGGC']\n"
     ]
    }
   ],
   "source": [
    "delete_repeats(d)\n",
    "print(d)\n",
    "\n",
    "for i in range(len(d)):\n",
    "    print('way',i,'=',genome_way(d[i], G))"
   ]
  },
  {
   "cell_type": "code",
   "execution_count": 214,
   "metadata": {},
   "outputs": [
    {
     "name": "stdout",
     "output_type": "stream",
     "text": [
      "read =  ['T', 'C', 'A', 'G', 'C', 'T', 'T']\n",
      "k-mers =  ['TCAGC', 'CAGCT', 'AGCTT']\n"
     ]
    },
    {
     "name": "stderr",
     "output_type": "stream",
     "text": [
      "d:\\python\\lib\\site-packages\\networkx\\drawing\\nx_pylab.py:579: MatplotlibDeprecationWarning: \n",
      "The iterable function was deprecated in Matplotlib 3.1 and will be removed in 3.3. Use np.iterable instead.\n",
      "  if not cb.iterable(width):\n",
      "d:\\python\\lib\\site-packages\\networkx\\drawing\\nx_pylab.py:676: MatplotlibDeprecationWarning: \n",
      "The iterable function was deprecated in Matplotlib 3.1 and will be removed in 3.3. Use np.iterable instead.\n",
      "  if cb.iterable(node_size):  # many node sizes\n"
     ]
    },
    {
     "data": {
      "image/png": "[encoded data removed]",
      "text/plain": [
       "<Figure size 432x288 with 1 Axes>"
      ]
     },
     "metadata": {},
     "output_type": "display_data"
    },
    {
     "name": "stdout",
     "output_type": "stream",
     "text": [
      "[[0 1 0]\n",
      " [0 0 1]\n",
      " [1 0 0]]\n",
      "[-2, 1, 1, 1, 0, 0, 1, 1, 0]\n",
      "[1, -2, 1, 0, 1, 0, 0, 1, 1]\n",
      "[1, 1, -2, 0, 0, 1, 1, 0, 1]\n",
      "[1, 1, 0, -2, 1, 1, 1, 0, 0]\n",
      "[0, 1, 1, 1, -2, 1, 0, 1, 0]\n",
      "[1, 0, 1, 1, 1, -2, 0, 0, 1]\n",
      "[1, 0, 0, 1, 1, 0, -2, 1, 1]\n",
      "[0, 1, 0, 0, 1, 1, 1, -2, 1]\n",
      "[0, 0, 1, 1, 0, 1, 1, 1, -2]\n",
      "{(0, 0): 0, (0, 1): 1, (0, 2): 2, (1, 0): 3, (1, 1): 4, (1, 2): 5, (2, 0): 6, (2, 1): 7, (2, 2): 8}\n",
      "Sample: {0: 0, 1: 1, 2: 0, 3: 0, 4: 0, 5: 1, 6: 1, 7: 0, 8: 0} Energy:  -6.0 Occurrences:  684\n",
      "Sample: {0: 1, 1: 0, 2: 0, 3: 0, 4: 1, 5: 0, 6: 0, 7: 0, 8: 1} Energy:  -6.0 Occurrences:  1049\n",
      "Sample: {0: 0, 1: 0, 2: 1, 3: 1, 4: 0, 5: 0, 6: 0, 7: 1, 8: 0} Energy:  -6.0 Occurrences:  3219\n",
      "Sample: {0: 0, 1: 0, 2: 1, 3: 1, 4: 0, 5: 0, 6: 0, 7: 1, 8: 0} Energy:  -6.0 Occurrences:  1\n",
      "Sample: {0: 0, 1: 0, 2: 1, 3: 1, 4: 0, 5: 0, 6: 0, 7: 1, 8: 0} Energy:  -6.0 Occurrences:  2\n",
      "Sample: {0: 0, 1: 0, 2: 1, 3: 1, 4: 0, 5: 0, 6: 0, 7: 1, 8: 0} Energy:  -6.0 Occurrences:  1\n",
      "Sample: {0: 0, 1: 0, 2: 1, 3: 1, 4: 0, 5: 0, 6: 0, 7: 1, 8: 0} Energy:  -6.0 Occurrences:  1\n"
     ]
    }
   ],
   "source": [
    "G = graph(7, 5)\n",
    "M = matrix(G)\n",
    "print(M)\n",
    "len_M = len(M)\n",
    "\n",
    "qubo = generate_qubo(M)\n",
    "Q = qubo[0]\n",
    "vD = qubo[1]\n",
    "\n",
    "for i in range(len_M*len_M):\n",
    "    print([Q[i,j] for j in range(len_M*len_M)])\n",
    "\n",
    "print(vD)\n",
    "d = dwave(Q, len_M, vD)\n"
   ]
  },
  {
   "cell_type": "code",
   "execution_count": 216,
   "metadata": {},
   "outputs": [
    {
     "name": "stdout",
     "output_type": "stream",
     "text": [
      "[[1, 2, 0], [0, 1, 2], [2, 0, 1]]\n",
      "way 0 = ['CAGCT', 'AGCTT', 'TCAGC']\n",
      "way 1 = ['TCAGC', 'CAGCT', 'AGCTT']\n",
      "way 2 = ['AGCTT', 'TCAGC', 'CAGCT']\n"
     ]
    }
   ],
   "source": [
    "delete_repeats(d)\n",
    "print(d)\n",
    "\n",
    "for i in range(len(d)):\n",
    "    print('way',i,'=',genome_way(d[i], G))"
   ]
  },
  {
   "cell_type": "markdown",
   "metadata": {},
   "source": [
    "$\\textbf{len_read =  8 - (3, 4, 5-мерами)}$"
   ]
  },
  {
   "cell_type": "code",
   "execution_count": 224,
   "metadata": {},
   "outputs": [
    {
     "name": "stdout",
     "output_type": "stream",
     "text": [
      "read =  ['A', 'C', 'G', 'T', 'C', 'G', 'C', 'G']\n",
      "k-mers =  ['ACG', 'CGT', 'GTC', 'TCG', 'CGC', 'GCG']\n"
     ]
    },
    {
     "name": "stderr",
     "output_type": "stream",
     "text": [
      "d:\\python\\lib\\site-packages\\networkx\\drawing\\nx_pylab.py:579: MatplotlibDeprecationWarning: \n",
      "The iterable function was deprecated in Matplotlib 3.1 and will be removed in 3.3. Use np.iterable instead.\n",
      "  if not cb.iterable(width):\n",
      "d:\\python\\lib\\site-packages\\networkx\\drawing\\nx_pylab.py:676: MatplotlibDeprecationWarning: \n",
      "The iterable function was deprecated in Matplotlib 3.1 and will be removed in 3.3. Use np.iterable instead.\n",
      "  if cb.iterable(node_size):  # many node sizes\n"
     ]
    },
    {
     "data": {
      "image/png": "[encoded data removed]",
      "text/plain": [
       "<Figure size 432x288 with 1 Axes>"
      ]
     },
     "metadata": {},
     "output_type": "display_data"
    },
    {
     "name": "stdout",
     "output_type": "stream",
     "text": [
      "[[0 1 0 0 0 0]\n",
      " [0 0 1 0 0 0]\n",
      " [0 0 0 1 0 0]\n",
      " [0 0 0 0 1 0]\n",
      " [0 0 0 0 0 1]\n",
      " [1 0 0 0 0 0]]\n",
      "[-2, 1, 1, 1, 1, 1, 1, 0, 0, 0, 0, 0, 1, 1, 0, 0, 0, 0, 1, 1, 0, 0, 0, 0, 1, 1, 0, 0, 0, 0, 1, 1, 0, 0, 0, 0]\n",
      "[1, -2, 1, 1, 1, 1, 0, 1, 0, 0, 0, 0, 0, 1, 1, 0, 0, 0, 0, 1, 1, 0, 0, 0, 0, 1, 1, 0, 0, 0, 0, 1, 1, 0, 0, 0]\n",
      "[1, 1, -2, 1, 1, 1, 0, 0, 1, 0, 0, 0, 0, 0, 1, 1, 0, 0, 0, 0, 1, 1, 0, 0, 0, 0, 1, 1, 0, 0, 0, 0, 1, 1, 0, 0]\n",
      "[1, 1, 1, -2, 1, 1, 0, 0, 0, 1, 0, 0, 0, 0, 0, 1, 1, 0, 0, 0, 0, 1, 1, 0, 0, 0, 0, 1, 1, 0, 0, 0, 0, 1, 1, 0]\n",
      "[1, 1, 1, 1, -2, 1, 0, 0, 0, 0, 1, 0, 0, 0, 0, 0, 1, 1, 0, 0, 0, 0, 1, 1, 0, 0, 0, 0, 1, 1, 0, 0, 0, 0, 1, 1]\n",
      "[1, 1, 1, 1, 1, -2, 0, 0, 0, 0, 0, 1, 1, 0, 0, 0, 0, 1, 1, 0, 0, 0, 0, 1, 1, 0, 0, 0, 0, 1, 1, 0, 0, 0, 0, 1]\n",
      "[1, 1, 0, 0, 0, 0, -2, 1, 1, 1, 1, 1, 1, 0, 0, 0, 0, 0, 1, 1, 0, 0, 0, 0, 1, 1, 0, 0, 0, 0, 1, 1, 0, 0, 0, 0]\n",
      "[0, 1, 1, 0, 0, 0, 1, -2, 1, 1, 1, 1, 0, 1, 0, 0, 0, 0, 0, 1, 1, 0, 0, 0, 0, 1, 1, 0, 0, 0, 0, 1, 1, 0, 0, 0]\n",
      "[0, 0, 1, 1, 0, 0, 1, 1, -2, 1, 1, 1, 0, 0, 1, 0, 0, 0, 0, 0, 1, 1, 0, 0, 0, 0, 1, 1, 0, 0, 0, 0, 1, 1, 0, 0]\n",
      "[0, 0, 0, 1, 1, 0, 1, 1, 1, -2, 1, 1, 0, 0, 0, 1, 0, 0, 0, 0, 0, 1, 1, 0, 0, 0, 0, 1, 1, 0, 0, 0, 0, 1, 1, 0]\n",
      "[0, 0, 0, 0, 1, 1, 1, 1, 1, 1, -2, 1, 0, 0, 0, 0, 1, 0, 0, 0, 0, 0, 1, 1, 0, 0, 0, 0, 1, 1, 0, 0, 0, 0, 1, 1]\n",
      "[1, 0, 0, 0, 0, 1, 1, 1, 1, 1, 1, -2, 0, 0, 0, 0, 0, 1, 1, 0, 0, 0, 0, 1, 1, 0, 0, 0, 0, 1, 1, 0, 0, 0, 0, 1]\n",
      "[1, 1, 0, 0, 0, 0, 1, 1, 0, 0, 0, 0, -2, 1, 1, 1, 1, 1, 1, 0, 0, 0, 0, 0, 1, 1, 0, 0, 0, 0, 1, 1, 0, 0, 0, 0]\n",
      "[0, 1, 1, 0, 0, 0, 0, 1, 1, 0, 0, 0, 1, -2, 1, 1, 1, 1, 0, 1, 0, 0, 0, 0, 0, 1, 1, 0, 0, 0, 0, 1, 1, 0, 0, 0]\n",
      "[0, 0, 1, 1, 0, 0, 0, 0, 1, 1, 0, 0, 1, 1, -2, 1, 1, 1, 0, 0, 1, 0, 0, 0, 0, 0, 1, 1, 0, 0, 0, 0, 1, 1, 0, 0]\n",
      "[0, 0, 0, 1, 1, 0, 0, 0, 0, 1, 1, 0, 1, 1, 1, -2, 1, 1, 0, 0, 0, 1, 0, 0, 0, 0, 0, 1, 1, 0, 0, 0, 0, 1, 1, 0]\n",
      "[0, 0, 0, 0, 1, 1, 0, 0, 0, 0, 1, 1, 1, 1, 1, 1, -2, 1, 0, 0, 0, 0, 1, 0, 0, 0, 0, 0, 1, 1, 0, 0, 0, 0, 1, 1]\n",
      "[1, 0, 0, 0, 0, 1, 1, 0, 0, 0, 0, 1, 1, 1, 1, 1, 1, -2, 0, 0, 0, 0, 0, 1, 1, 0, 0, 0, 0, 1, 1, 0, 0, 0, 0, 1]\n",
      "[1, 1, 0, 0, 0, 0, 1, 1, 0, 0, 0, 0, 1, 1, 0, 0, 0, 0, -2, 1, 1, 1, 1, 1, 1, 0, 0, 0, 0, 0, 1, 1, 0, 0, 0, 0]\n",
      "[0, 1, 1, 0, 0, 0, 0, 1, 1, 0, 0, 0, 0, 1, 1, 0, 0, 0, 1, -2, 1, 1, 1, 1, 0, 1, 0, 0, 0, 0, 0, 1, 1, 0, 0, 0]\n",
      "[0, 0, 1, 1, 0, 0, 0, 0, 1, 1, 0, 0, 0, 0, 1, 1, 0, 0, 1, 1, -2, 1, 1, 1, 0, 0, 1, 0, 0, 0, 0, 0, 1, 1, 0, 0]\n",
      "[0, 0, 0, 1, 1, 0, 0, 0, 0, 1, 1, 0, 0, 0, 0, 1, 1, 0, 1, 1, 1, -2, 1, 1, 0, 0, 0, 1, 0, 0, 0, 0, 0, 1, 1, 0]\n",
      "[0, 0, 0, 0, 1, 1, 0, 0, 0, 0, 1, 1, 0, 0, 0, 0, 1, 1, 1, 1, 1, 1, -2, 1, 0, 0, 0, 0, 1, 0, 0, 0, 0, 0, 1, 1]\n",
      "[1, 0, 0, 0, 0, 1, 1, 0, 0, 0, 0, 1, 1, 0, 0, 0, 0, 1, 1, 1, 1, 1, 1, -2, 0, 0, 0, 0, 0, 1, 1, 0, 0, 0, 0, 1]\n",
      "[1, 1, 0, 0, 0, 0, 1, 1, 0, 0, 0, 0, 1, 1, 0, 0, 0, 0, 1, 1, 0, 0, 0, 0, -2, 1, 1, 1, 1, 1, 1, 0, 0, 0, 0, 0]\n",
      "[0, 1, 1, 0, 0, 0, 0, 1, 1, 0, 0, 0, 0, 1, 1, 0, 0, 0, 0, 1, 1, 0, 0, 0, 1, -2, 1, 1, 1, 1, 0, 1, 0, 0, 0, 0]\n",
      "[0, 0, 1, 1, 0, 0, 0, 0, 1, 1, 0, 0, 0, 0, 1, 1, 0, 0, 0, 0, 1, 1, 0, 0, 1, 1, -2, 1, 1, 1, 0, 0, 1, 0, 0, 0]\n",
      "[0, 0, 0, 1, 1, 0, 0, 0, 0, 1, 1, 0, 0, 0, 0, 1, 1, 0, 0, 0, 0, 1, 1, 0, 1, 1, 1, -2, 1, 1, 0, 0, 0, 1, 0, 0]\n",
      "[0, 0, 0, 0, 1, 1, 0, 0, 0, 0, 1, 1, 0, 0, 0, 0, 1, 1, 0, 0, 0, 0, 1, 1, 1, 1, 1, 1, -2, 1, 0, 0, 0, 0, 1, 0]\n",
      "[1, 0, 0, 0, 0, 1, 1, 0, 0, 0, 0, 1, 1, 0, 0, 0, 0, 1, 1, 0, 0, 0, 0, 1, 1, 1, 1, 1, 1, -2, 0, 0, 0, 0, 0, 1]\n",
      "[1, 0, 0, 0, 0, 0, 1, 1, 0, 0, 0, 0, 1, 1, 0, 0, 0, 0, 1, 1, 0, 0, 0, 0, 1, 1, 0, 0, 0, 0, -2, 1, 1, 1, 1, 1]\n",
      "[0, 1, 0, 0, 0, 0, 0, 1, 1, 0, 0, 0, 0, 1, 1, 0, 0, 0, 0, 1, 1, 0, 0, 0, 0, 1, 1, 0, 0, 0, 1, -2, 1, 1, 1, 1]\n",
      "[0, 0, 1, 0, 0, 0, 0, 0, 1, 1, 0, 0, 0, 0, 1, 1, 0, 0, 0, 0, 1, 1, 0, 0, 0, 0, 1, 1, 0, 0, 1, 1, -2, 1, 1, 1]\n",
      "[0, 0, 0, 1, 0, 0, 0, 0, 0, 1, 1, 0, 0, 0, 0, 1, 1, 0, 0, 0, 0, 1, 1, 0, 0, 0, 0, 1, 1, 0, 1, 1, 1, -2, 1, 1]\n",
      "[0, 0, 0, 0, 1, 0, 0, 0, 0, 0, 1, 1, 0, 0, 0, 0, 1, 1, 0, 0, 0, 0, 1, 1, 0, 0, 0, 0, 1, 1, 1, 1, 1, 1, -2, 1]\n",
      "[0, 0, 0, 0, 0, 1, 1, 0, 0, 0, 0, 1, 1, 0, 0, 0, 0, 1, 1, 0, 0, 0, 0, 1, 1, 0, 0, 0, 0, 1, 1, 1, 1, 1, 1, -2]\n",
      "{(0, 0): 0, (0, 1): 1, (0, 2): 2, (0, 3): 3, (0, 4): 4, (0, 5): 5, (1, 0): 6, (1, 1): 7, (1, 2): 8, (1, 3): 9, (1, 4): 10, (1, 5): 11, (2, 0): 12, (2, 1): 13, (2, 2): 14, (2, 3): 15, (2, 4): 16, (2, 5): 17, (3, 0): 18, (3, 1): 19, (3, 2): 20, (3, 3): 21, (3, 4): 22, (3, 5): 23, (4, 0): 24, (4, 1): 25, (4, 2): 26, (4, 3): 27, (4, 4): 28, (4, 5): 29, (5, 0): 30, (5, 1): 31, (5, 2): 32, (5, 3): 33, (5, 4): 34, (5, 5): 35}\n"
     ]
    }
   ],
   "source": [
    "G = graph(8, 3)\n",
    "M = matrix(G)\n",
    "print(M)\n",
    "len_M = len(M)\n",
    "\n",
    "qubo = generate_qubo(M)\n",
    "Q = qubo[0]\n",
    "vD = qubo[1]\n",
    "\n",
    "for i in range(len_M*len_M):\n",
    "    print([Q[i,j] for j in range(len_M*len_M)])\n",
    "\n",
    "print(vD)\n",
    "d = dwave(Q, len_M, vD)\n"
   ]
  },
  {
   "cell_type": "code",
   "execution_count": 225,
   "metadata": {},
   "outputs": [
    {
     "name": "stdout",
     "output_type": "stream",
     "text": [
      "[]\n"
     ]
    }
   ],
   "source": [
    "delete_repeats(d)\n",
    "print(d)\n",
    "\n",
    "for i in range(len(d)):\n",
    "    print('way',i,'=',genome_way(d[i], G))"
   ]
  },
  {
   "cell_type": "code",
   "execution_count": 217,
   "metadata": {},
   "outputs": [
    {
     "name": "stdout",
     "output_type": "stream",
     "text": [
      "read =  ['T', 'T', 'T', 'C', 'A', 'A', 'T', 'C']\n",
      "k-mers =  ['TTTC', 'TTCA', 'TCAA', 'CAAT', 'AATC']\n"
     ]
    },
    {
     "name": "stderr",
     "output_type": "stream",
     "text": [
      "d:\\python\\lib\\site-packages\\networkx\\drawing\\nx_pylab.py:579: MatplotlibDeprecationWarning: \n",
      "The iterable function was deprecated in Matplotlib 3.1 and will be removed in 3.3. Use np.iterable instead.\n",
      "  if not cb.iterable(width):\n",
      "d:\\python\\lib\\site-packages\\networkx\\drawing\\nx_pylab.py:676: MatplotlibDeprecationWarning: \n",
      "The iterable function was deprecated in Matplotlib 3.1 and will be removed in 3.3. Use np.iterable instead.\n",
      "  if cb.iterable(node_size):  # many node sizes\n"
     ]
    },
    {
     "data": {
      "image/png": "[encoded data removed]",
      "text/plain": [
       "<Figure size 432x288 with 1 Axes>"
      ]
     },
     "metadata": {},
     "output_type": "display_data"
    },
    {
     "name": "stdout",
     "output_type": "stream",
     "text": [
      "[[0 1 0 0 0]\n",
      " [0 0 1 0 0]\n",
      " [0 0 0 1 0]\n",
      " [0 0 0 0 1]\n",
      " [1 0 0 0 0]]\n",
      "[-2, 1, 1, 1, 1, 1, 0, 0, 0, 0, 1, 1, 0, 0, 0, 1, 1, 0, 0, 0, 1, 1, 0, 0, 0]\n",
      "[1, -2, 1, 1, 1, 0, 1, 0, 0, 0, 0, 1, 1, 0, 0, 0, 1, 1, 0, 0, 0, 1, 1, 0, 0]\n",
      "[1, 1, -2, 1, 1, 0, 0, 1, 0, 0, 0, 0, 1, 1, 0, 0, 0, 1, 1, 0, 0, 0, 1, 1, 0]\n",
      "[1, 1, 1, -2, 1, 0, 0, 0, 1, 0, 0, 0, 0, 1, 1, 0, 0, 0, 1, 1, 0, 0, 0, 1, 1]\n",
      "[1, 1, 1, 1, -2, 0, 0, 0, 0, 1, 1, 0, 0, 0, 1, 1, 0, 0, 0, 1, 1, 0, 0, 0, 1]\n",
      "[1, 1, 0, 0, 0, -2, 1, 1, 1, 1, 1, 0, 0, 0, 0, 1, 1, 0, 0, 0, 1, 1, 0, 0, 0]\n",
      "[0, 1, 1, 0, 0, 1, -2, 1, 1, 1, 0, 1, 0, 0, 0, 0, 1, 1, 0, 0, 0, 1, 1, 0, 0]\n",
      "[0, 0, 1, 1, 0, 1, 1, -2, 1, 1, 0, 0, 1, 0, 0, 0, 0, 1, 1, 0, 0, 0, 1, 1, 0]\n",
      "[0, 0, 0, 1, 1, 1, 1, 1, -2, 1, 0, 0, 0, 1, 0, 0, 0, 0, 1, 1, 0, 0, 0, 1, 1]\n",
      "[1, 0, 0, 0, 1, 1, 1, 1, 1, -2, 0, 0, 0, 0, 1, 1, 0, 0, 0, 1, 1, 0, 0, 0, 1]\n",
      "[1, 1, 0, 0, 0, 1, 1, 0, 0, 0, -2, 1, 1, 1, 1, 1, 0, 0, 0, 0, 1, 1, 0, 0, 0]\n",
      "[0, 1, 1, 0, 0, 0, 1, 1, 0, 0, 1, -2, 1, 1, 1, 0, 1, 0, 0, 0, 0, 1, 1, 0, 0]\n",
      "[0, 0, 1, 1, 0, 0, 0, 1, 1, 0, 1, 1, -2, 1, 1, 0, 0, 1, 0, 0, 0, 0, 1, 1, 0]\n",
      "[0, 0, 0, 1, 1, 0, 0, 0, 1, 1, 1, 1, 1, -2, 1, 0, 0, 0, 1, 0, 0, 0, 0, 1, 1]\n",
      "[1, 0, 0, 0, 1, 1, 0, 0, 0, 1, 1, 1, 1, 1, -2, 0, 0, 0, 0, 1, 1, 0, 0, 0, 1]\n",
      "[1, 1, 0, 0, 0, 1, 1, 0, 0, 0, 1, 1, 0, 0, 0, -2, 1, 1, 1, 1, 1, 0, 0, 0, 0]\n",
      "[0, 1, 1, 0, 0, 0, 1, 1, 0, 0, 0, 1, 1, 0, 0, 1, -2, 1, 1, 1, 0, 1, 0, 0, 0]\n",
      "[0, 0, 1, 1, 0, 0, 0, 1, 1, 0, 0, 0, 1, 1, 0, 1, 1, -2, 1, 1, 0, 0, 1, 0, 0]\n",
      "[0, 0, 0, 1, 1, 0, 0, 0, 1, 1, 0, 0, 0, 1, 1, 1, 1, 1, -2, 1, 0, 0, 0, 1, 0]\n",
      "[1, 0, 0, 0, 1, 1, 0, 0, 0, 1, 1, 0, 0, 0, 1, 1, 1, 1, 1, -2, 0, 0, 0, 0, 1]\n",
      "[1, 0, 0, 0, 0, 1, 1, 0, 0, 0, 1, 1, 0, 0, 0, 1, 1, 0, 0, 0, -2, 1, 1, 1, 1]\n",
      "[0, 1, 0, 0, 0, 0, 1, 1, 0, 0, 0, 1, 1, 0, 0, 0, 1, 1, 0, 0, 1, -2, 1, 1, 1]\n",
      "[0, 0, 1, 0, 0, 0, 0, 1, 1, 0, 0, 0, 1, 1, 0, 0, 0, 1, 1, 0, 1, 1, -2, 1, 1]\n",
      "[0, 0, 0, 1, 0, 0, 0, 0, 1, 1, 0, 0, 0, 1, 1, 0, 0, 0, 1, 1, 1, 1, 1, -2, 1]\n",
      "[0, 0, 0, 0, 1, 1, 0, 0, 0, 1, 1, 0, 0, 0, 1, 1, 0, 0, 0, 1, 1, 1, 1, 1, -2]\n",
      "{(0, 0): 0, (0, 1): 1, (0, 2): 2, (0, 3): 3, (0, 4): 4, (1, 0): 5, (1, 1): 6, (1, 2): 7, (1, 3): 8, (1, 4): 9, (2, 0): 10, (2, 1): 11, (2, 2): 12, (2, 3): 13, (2, 4): 14, (3, 0): 15, (3, 1): 16, (3, 2): 17, (3, 3): 18, (3, 4): 19, (4, 0): 20, (4, 1): 21, (4, 2): 22, (4, 3): 23, (4, 4): 24}\n",
      "Sample: {0: 1, 1: 0, 2: 0, 3: 0, 4: 0, 5: 0, 6: 1, 7: 0, 8: 0, 9: 0, 10: 0, 11: 0, 12: 1, 13: 0, 14: 0, 15: 0, 16: 0, 17: 0, 18: 1, 19: 0, 20: 0, 21: 0, 22: 0, 23: 0, 24: 1} Energy:  -10.0 Occurrences:  1\n",
      "Sample: {0: 0, 1: 0, 2: 1, 3: 0, 4: 0, 5: 0, 6: 0, 7: 0, 8: 1, 9: 0, 10: 0, 11: 0, 12: 0, 13: 0, 14: 1, 15: 1, 16: 0, 17: 0, 18: 0, 19: 0, 20: 0, 21: 1, 22: 0, 23: 0, 24: 0} Energy:  -10.0 Occurrences:  1\n",
      "Sample: {0: 0, 1: 0, 2: 0, 3: 1, 4: 0, 5: 0, 6: 0, 7: 0, 8: 0, 9: 1, 10: 1, 11: 0, 12: 0, 13: 0, 14: 0, 15: 0, 16: 1, 17: 0, 18: 0, 19: 0, 20: 0, 21: 0, 22: 1, 23: 0, 24: 0} Energy:  -10.0 Occurrences:  2\n",
      "Sample: {0: 0, 1: 0, 2: 1, 3: 0, 4: 0, 5: 0, 6: 0, 7: 0, 8: 1, 9: 0, 10: 0, 11: 0, 12: 0, 13: 0, 14: 1, 15: 1, 16: 0, 17: 0, 18: 0, 19: 0, 20: 0, 21: 1, 22: 0, 23: 0, 24: 0} Energy:  -10.0 Occurrences:  1\n",
      "Sample: {0: 0, 1: 0, 2: 1, 3: 0, 4: 0, 5: 0, 6: 0, 7: 0, 8: 1, 9: 0, 10: 0, 11: 0, 12: 0, 13: 0, 14: 1, 15: 1, 16: 0, 17: 0, 18: 0, 19: 0, 20: 0, 21: 1, 22: 0, 23: 0, 24: 0} Energy:  -10.0 Occurrences:  1\n",
      "Sample: {0: 0, 1: 0, 2: 0, 3: 1, 4: 0, 5: 0, 6: 0, 7: 0, 8: 0, 9: 1, 10: 1, 11: 0, 12: 0, 13: 0, 14: 0, 15: 0, 16: 1, 17: 0, 18: 0, 19: 0, 20: 0, 21: 0, 22: 1, 23: 0, 24: 0} Energy:  -10.0 Occurrences:  3\n",
      "Sample: {0: 0, 1: 0, 2: 1, 3: 0, 4: 0, 5: 0, 6: 0, 7: 0, 8: 1, 9: 0, 10: 0, 11: 0, 12: 0, 13: 0, 14: 1, 15: 1, 16: 0, 17: 0, 18: 0, 19: 0, 20: 0, 21: 1, 22: 0, 23: 0, 24: 0} Energy:  -10.0 Occurrences:  1\n"
     ]
    }
   ],
   "source": [
    "G = graph(8, 4)\n",
    "M = matrix(G)\n",
    "print(M)\n",
    "len_M = len(M)\n",
    "\n",
    "qubo = generate_qubo(M)\n",
    "Q = qubo[0]\n",
    "vD = qubo[1]\n",
    "\n",
    "for i in range(len_M*len_M):\n",
    "    print([Q[i,j] for j in range(len_M*len_M)])\n",
    "\n",
    "print(vD)\n",
    "d = dwave(Q, len_M, vD)\n"
   ]
  },
  {
   "cell_type": "code",
   "execution_count": 219,
   "metadata": {},
   "outputs": [
    {
     "name": "stdout",
     "output_type": "stream",
     "text": [
      "[[0, 1, 2, 3, 4], [3, 4, 0, 1, 2], [2, 3, 4, 0, 1]]\n",
      "way 0 = ['TTTC', 'TTCA', 'TCAA', 'CAAT', 'AATC']\n",
      "way 1 = ['CAAT', 'AATC', 'TTTC', 'TTCA', 'TCAA']\n",
      "way 2 = ['TCAA', 'CAAT', 'AATC', 'TTTC', 'TTCA']\n"
     ]
    }
   ],
   "source": [
    "delete_repeats(d)\n",
    "print(d)\n",
    "\n",
    "for i in range(len(d)):\n",
    "    print('way',i,'=',genome_way(d[i], G))"
   ]
  },
  {
   "cell_type": "code",
   "execution_count": 220,
   "metadata": {},
   "outputs": [
    {
     "name": "stdout",
     "output_type": "stream",
     "text": [
      "read =  ['C', 'C', 'T', 'C', 'C', 'C', 'T', 'G']\n",
      "k-mers =  ['CCTCC', 'CTCCC', 'TCCCT', 'CCCTG']\n"
     ]
    },
    {
     "name": "stderr",
     "output_type": "stream",
     "text": [
      "d:\\python\\lib\\site-packages\\networkx\\drawing\\nx_pylab.py:579: MatplotlibDeprecationWarning: \n",
      "The iterable function was deprecated in Matplotlib 3.1 and will be removed in 3.3. Use np.iterable instead.\n",
      "  if not cb.iterable(width):\n",
      "d:\\python\\lib\\site-packages\\networkx\\drawing\\nx_pylab.py:676: MatplotlibDeprecationWarning: \n",
      "The iterable function was deprecated in Matplotlib 3.1 and will be removed in 3.3. Use np.iterable instead.\n",
      "  if cb.iterable(node_size):  # many node sizes\n"
     ]
    },
    {
     "data": {
      "image/png": "[encoded data removed]",
      "text/plain": [
       "<Figure size 432x288 with 1 Axes>"
      ]
     },
     "metadata": {},
     "output_type": "display_data"
    },
    {
     "name": "stdout",
     "output_type": "stream",
     "text": [
      "[[0 1 0 0]\n",
      " [0 0 1 0]\n",
      " [0 0 0 1]\n",
      " [1 0 0 0]]\n",
      "[-2, 1, 1, 1, 1, 0, 0, 0, 1, 1, 0, 0, 1, 1, 0, 0]\n",
      "[1, -2, 1, 1, 0, 1, 0, 0, 0, 1, 1, 0, 0, 1, 1, 0]\n",
      "[1, 1, -2, 1, 0, 0, 1, 0, 0, 0, 1, 1, 0, 0, 1, 1]\n",
      "[1, 1, 1, -2, 0, 0, 0, 1, 1, 0, 0, 1, 1, 0, 0, 1]\n",
      "[1, 1, 0, 0, -2, 1, 1, 1, 1, 0, 0, 0, 1, 1, 0, 0]\n",
      "[0, 1, 1, 0, 1, -2, 1, 1, 0, 1, 0, 0, 0, 1, 1, 0]\n",
      "[0, 0, 1, 1, 1, 1, -2, 1, 0, 0, 1, 0, 0, 0, 1, 1]\n",
      "[1, 0, 0, 1, 1, 1, 1, -2, 0, 0, 0, 1, 1, 0, 0, 1]\n",
      "[1, 1, 0, 0, 1, 1, 0, 0, -2, 1, 1, 1, 1, 0, 0, 0]\n",
      "[0, 1, 1, 0, 0, 1, 1, 0, 1, -2, 1, 1, 0, 1, 0, 0]\n",
      "[0, 0, 1, 1, 0, 0, 1, 1, 1, 1, -2, 1, 0, 0, 1, 0]\n",
      "[1, 0, 0, 1, 1, 0, 0, 1, 1, 1, 1, -2, 0, 0, 0, 1]\n",
      "[1, 0, 0, 0, 1, 1, 0, 0, 1, 1, 0, 0, -2, 1, 1, 1]\n",
      "[0, 1, 0, 0, 0, 1, 1, 0, 0, 1, 1, 0, 1, -2, 1, 1]\n",
      "[0, 0, 1, 0, 0, 0, 1, 1, 0, 0, 1, 1, 1, 1, -2, 1]\n",
      "[0, 0, 0, 1, 1, 0, 0, 1, 1, 0, 0, 1, 1, 1, 1, -2]\n",
      "{(0, 0): 0, (0, 1): 1, (0, 2): 2, (0, 3): 3, (1, 0): 4, (1, 1): 5, (1, 2): 6, (1, 3): 7, (2, 0): 8, (2, 1): 9, (2, 2): 10, (2, 3): 11, (3, 0): 12, (3, 1): 13, (3, 2): 14, (3, 3): 15}\n",
      "Sample: {0: 0, 1: 1, 2: 0, 3: 0, 4: 0, 5: 0, 6: 1, 7: 0, 8: 0, 9: 0, 10: 0, 11: 1, 12: 1, 13: 0, 14: 0, 15: 0} Energy:  -8.0 Occurrences:  605\n",
      "Sample: {0: 0, 1: 0, 2: 0, 3: 1, 4: 1, 5: 0, 6: 0, 7: 0, 8: 0, 9: 1, 10: 0, 11: 0, 12: 0, 13: 0, 14: 1, 15: 0} Energy:  -8.0 Occurrences:  13\n",
      "Sample: {0: 0, 1: 1, 2: 0, 3: 0, 4: 0, 5: 0, 6: 1, 7: 0, 8: 0, 9: 0, 10: 0, 11: 1, 12: 1, 13: 0, 14: 0, 15: 0} Energy:  -8.0 Occurrences:  1\n",
      "Sample: {0: 0, 1: 1, 2: 0, 3: 0, 4: 0, 5: 0, 6: 1, 7: 0, 8: 0, 9: 0, 10: 0, 11: 1, 12: 1, 13: 0, 14: 0, 15: 0} Energy:  -8.0 Occurrences:  7\n",
      "Sample: {0: 0, 1: 0, 2: 0, 3: 1, 4: 1, 5: 0, 6: 0, 7: 0, 8: 0, 9: 1, 10: 0, 11: 0, 12: 0, 13: 0, 14: 1, 15: 0} Energy:  -8.0 Occurrences:  1\n",
      "Sample: {0: 0, 1: 1, 2: 0, 3: 0, 4: 0, 5: 0, 6: 1, 7: 0, 8: 0, 9: 0, 10: 0, 11: 1, 12: 1, 13: 0, 14: 0, 15: 0} Energy:  -8.0 Occurrences:  1\n",
      "Sample: {0: 0, 1: 0, 2: 0, 3: 1, 4: 1, 5: 0, 6: 0, 7: 0, 8: 0, 9: 1, 10: 0, 11: 0, 12: 0, 13: 0, 14: 1, 15: 0} Energy:  -8.0 Occurrences:  24\n",
      "Sample: {0: 0, 1: 1, 2: 0, 3: 0, 4: 0, 5: 0, 6: 1, 7: 0, 8: 0, 9: 0, 10: 0, 11: 1, 12: 1, 13: 0, 14: 0, 15: 0} Energy:  -8.0 Occurrences:  2\n",
      "Sample: {0: 1, 1: 0, 2: 0, 3: 0, 4: 0, 5: 1, 6: 0, 7: 0, 8: 0, 9: 0, 10: 1, 11: 0, 12: 0, 13: 0, 14: 0, 15: 1} Energy:  -8.0 Occurrences:  6\n",
      "Sample: {0: 1, 1: 0, 2: 0, 3: 0, 4: 0, 5: 1, 6: 0, 7: 0, 8: 0, 9: 0, 10: 1, 11: 0, 12: 0, 13: 0, 14: 0, 15: 1} Energy:  -8.0 Occurrences:  2\n",
      "Sample: {0: 0, 1: 1, 2: 0, 3: 0, 4: 0, 5: 0, 6: 1, 7: 0, 8: 0, 9: 0, 10: 0, 11: 1, 12: 1, 13: 0, 14: 0, 15: 0} Energy:  -8.0 Occurrences:  1\n",
      "Sample: {0: 0, 1: 1, 2: 0, 3: 0, 4: 0, 5: 0, 6: 1, 7: 0, 8: 0, 9: 0, 10: 0, 11: 1, 12: 1, 13: 0, 14: 0, 15: 0} Energy:  -8.0 Occurrences:  59\n",
      "Sample: {0: 0, 1: 1, 2: 0, 3: 0, 4: 0, 5: 0, 6: 1, 7: 0, 8: 0, 9: 0, 10: 0, 11: 1, 12: 1, 13: 0, 14: 0, 15: 0} Energy:  -8.0 Occurrences:  1\n",
      "Sample: {0: 0, 1: 1, 2: 0, 3: 0, 4: 0, 5: 0, 6: 1, 7: 0, 8: 0, 9: 0, 10: 0, 11: 1, 12: 1, 13: 0, 14: 0, 15: 0} Energy:  -8.0 Occurrences:  7\n"
     ]
    }
   ],
   "source": [
    "G = graph(8, 5)\n",
    "M = matrix(G)\n",
    "print(M)\n",
    "len_M = len(M)\n",
    "\n",
    "qubo = generate_qubo(M)\n",
    "Q = qubo[0]\n",
    "vD = qubo[1]\n",
    "\n",
    "for i in range(len_M*len_M):\n",
    "    print([Q[i,j] for j in range(len_M*len_M)])\n",
    "\n",
    "print(vD)\n",
    "d = dwave(Q, len_M, vD)\n"
   ]
  },
  {
   "cell_type": "code",
   "execution_count": 223,
   "metadata": {},
   "outputs": [
    {
     "name": "stdout",
     "output_type": "stream",
     "text": [
      "[[3, 0, 1, 2], [0, 1, 2, 3], [1, 2, 3, 0]]\n",
      "way 0 = ['CCCTG', 'CCTCC', 'CTCCC', 'TCCCT']\n",
      "way 1 = ['CCTCC', 'CTCCC', 'TCCCT', 'CCCTG']\n",
      "way 2 = ['CTCCC', 'TCCCT', 'CCCTG', 'CCTCC']\n"
     ]
    }
   ],
   "source": [
    "delete_repeats(d)\n",
    "print(d)\n",
    "\n",
    "for i in range(len(d)):\n",
    "    print('way',i,'=',genome_way(d[i], G))"
   ]
  },
  {
   "cell_type": "markdown",
   "metadata": {},
   "source": [
    "$\\textbf{len_read =  9 - (3, 4, 5-мерами)}$"
   ]
  },
  {
   "cell_type": "code",
   "execution_count": 230,
   "metadata": {},
   "outputs": [
    {
     "name": "stdout",
     "output_type": "stream",
     "text": [
      "read =  ['T', 'A', 'A', 'C', 'A', 'G', 'C', 'C', 'T']\n",
      "k-mers =  ['TAA', 'AAC', 'ACA', 'CAG', 'AGC', 'GCC', 'CCT']\n"
     ]
    },
    {
     "name": "stderr",
     "output_type": "stream",
     "text": [
      "d:\\python\\lib\\site-packages\\networkx\\drawing\\nx_pylab.py:579: MatplotlibDeprecationWarning: \n",
      "The iterable function was deprecated in Matplotlib 3.1 and will be removed in 3.3. Use np.iterable instead.\n",
      "  if not cb.iterable(width):\n",
      "d:\\python\\lib\\site-packages\\networkx\\drawing\\nx_pylab.py:676: MatplotlibDeprecationWarning: \n",
      "The iterable function was deprecated in Matplotlib 3.1 and will be removed in 3.3. Use np.iterable instead.\n",
      "  if cb.iterable(node_size):  # many node sizes\n"
     ]
    },
    {
     "data": {
      "image/png": "[encoded data removed]",
      "text/plain": [
       "<Figure size 432x288 with 1 Axes>"
      ]
     },
     "metadata": {},
     "output_type": "display_data"
    },
    {
     "name": "stdout",
     "output_type": "stream",
     "text": [
      "[[0 1 0 0 0 0 0]\n",
      " [0 0 1 0 0 0 0]\n",
      " [0 0 0 1 0 0 0]\n",
      " [0 0 0 0 1 0 0]\n",
      " [0 0 0 0 0 1 0]\n",
      " [0 0 0 0 0 0 1]\n",
      " [1 0 0 0 0 0 0]]\n",
      "[-2, 1, 1, 1, 1, 1, 1, 1, 0, 0, 0, 0, 0, 0, 1, 1, 0, 0, 0, 0, 0, 1, 1, 0, 0, 0, 0, 0, 1, 1, 0, 0, 0, 0, 0, 1, 1, 0, 0, 0, 0, 0, 1, 1, 0, 0, 0, 0, 0]\n",
      "[1, -2, 1, 1, 1, 1, 1, 0, 1, 0, 0, 0, 0, 0, 0, 1, 1, 0, 0, 0, 0, 0, 1, 1, 0, 0, 0, 0, 0, 1, 1, 0, 0, 0, 0, 0, 1, 1, 0, 0, 0, 0, 0, 1, 1, 0, 0, 0, 0]\n",
      "[1, 1, -2, 1, 1, 1, 1, 0, 0, 1, 0, 0, 0, 0, 0, 0, 1, 1, 0, 0, 0, 0, 0, 1, 1, 0, 0, 0, 0, 0, 1, 1, 0, 0, 0, 0, 0, 1, 1, 0, 0, 0, 0, 0, 1, 1, 0, 0, 0]\n",
      "[1, 1, 1, -2, 1, 1, 1, 0, 0, 0, 1, 0, 0, 0, 0, 0, 0, 1, 1, 0, 0, 0, 0, 0, 1, 1, 0, 0, 0, 0, 0, 1, 1, 0, 0, 0, 0, 0, 1, 1, 0, 0, 0, 0, 0, 1, 1, 0, 0]\n",
      "[1, 1, 1, 1, -2, 1, 1, 0, 0, 0, 0, 1, 0, 0, 0, 0, 0, 0, 1, 1, 0, 0, 0, 0, 0, 1, 1, 0, 0, 0, 0, 0, 1, 1, 0, 0, 0, 0, 0, 1, 1, 0, 0, 0, 0, 0, 1, 1, 0]\n",
      "[1, 1, 1, 1, 1, -2, 1, 0, 0, 0, 0, 0, 1, 0, 0, 0, 0, 0, 0, 1, 1, 0, 0, 0, 0, 0, 1, 1, 0, 0, 0, 0, 0, 1, 1, 0, 0, 0, 0, 0, 1, 1, 0, 0, 0, 0, 0, 1, 1]\n",
      "[1, 1, 1, 1, 1, 1, -2, 0, 0, 0, 0, 0, 0, 1, 1, 0, 0, 0, 0, 0, 1, 1, 0, 0, 0, 0, 0, 1, 1, 0, 0, 0, 0, 0, 1, 1, 0, 0, 0, 0, 0, 1, 1, 0, 0, 0, 0, 0, 1]\n",
      "[1, 1, 0, 0, 0, 0, 0, -2, 1, 1, 1, 1, 1, 1, 1, 0, 0, 0, 0, 0, 0, 1, 1, 0, 0, 0, 0, 0, 1, 1, 0, 0, 0, 0, 0, 1, 1, 0, 0, 0, 0, 0, 1, 1, 0, 0, 0, 0, 0]\n",
      "[0, 1, 1, 0, 0, 0, 0, 1, -2, 1, 1, 1, 1, 1, 0, 1, 0, 0, 0, 0, 0, 0, 1, 1, 0, 0, 0, 0, 0, 1, 1, 0, 0, 0, 0, 0, 1, 1, 0, 0, 0, 0, 0, 1, 1, 0, 0, 0, 0]\n",
      "[0, 0, 1, 1, 0, 0, 0, 1, 1, -2, 1, 1, 1, 1, 0, 0, 1, 0, 0, 0, 0, 0, 0, 1, 1, 0, 0, 0, 0, 0, 1, 1, 0, 0, 0, 0, 0, 1, 1, 0, 0, 0, 0, 0, 1, 1, 0, 0, 0]\n",
      "[0, 0, 0, 1, 1, 0, 0, 1, 1, 1, -2, 1, 1, 1, 0, 0, 0, 1, 0, 0, 0, 0, 0, 0, 1, 1, 0, 0, 0, 0, 0, 1, 1, 0, 0, 0, 0, 0, 1, 1, 0, 0, 0, 0, 0, 1, 1, 0, 0]\n",
      "[0, 0, 0, 0, 1, 1, 0, 1, 1, 1, 1, -2, 1, 1, 0, 0, 0, 0, 1, 0, 0, 0, 0, 0, 0, 1, 1, 0, 0, 0, 0, 0, 1, 1, 0, 0, 0, 0, 0, 1, 1, 0, 0, 0, 0, 0, 1, 1, 0]\n",
      "[0, 0, 0, 0, 0, 1, 1, 1, 1, 1, 1, 1, -2, 1, 0, 0, 0, 0, 0, 1, 0, 0, 0, 0, 0, 0, 1, 1, 0, 0, 0, 0, 0, 1, 1, 0, 0, 0, 0, 0, 1, 1, 0, 0, 0, 0, 0, 1, 1]\n",
      "[1, 0, 0, 0, 0, 0, 1, 1, 1, 1, 1, 1, 1, -2, 0, 0, 0, 0, 0, 0, 1, 1, 0, 0, 0, 0, 0, 1, 1, 0, 0, 0, 0, 0, 1, 1, 0, 0, 0, 0, 0, 1, 1, 0, 0, 0, 0, 0, 1]\n",
      "[1, 1, 0, 0, 0, 0, 0, 1, 1, 0, 0, 0, 0, 0, -2, 1, 1, 1, 1, 1, 1, 1, 0, 0, 0, 0, 0, 0, 1, 1, 0, 0, 0, 0, 0, 1, 1, 0, 0, 0, 0, 0, 1, 1, 0, 0, 0, 0, 0]\n",
      "[0, 1, 1, 0, 0, 0, 0, 0, 1, 1, 0, 0, 0, 0, 1, -2, 1, 1, 1, 1, 1, 0, 1, 0, 0, 0, 0, 0, 0, 1, 1, 0, 0, 0, 0, 0, 1, 1, 0, 0, 0, 0, 0, 1, 1, 0, 0, 0, 0]\n",
      "[0, 0, 1, 1, 0, 0, 0, 0, 0, 1, 1, 0, 0, 0, 1, 1, -2, 1, 1, 1, 1, 0, 0, 1, 0, 0, 0, 0, 0, 0, 1, 1, 0, 0, 0, 0, 0, 1, 1, 0, 0, 0, 0, 0, 1, 1, 0, 0, 0]\n",
      "[0, 0, 0, 1, 1, 0, 0, 0, 0, 0, 1, 1, 0, 0, 1, 1, 1, -2, 1, 1, 1, 0, 0, 0, 1, 0, 0, 0, 0, 0, 0, 1, 1, 0, 0, 0, 0, 0, 1, 1, 0, 0, 0, 0, 0, 1, 1, 0, 0]\n",
      "[0, 0, 0, 0, 1, 1, 0, 0, 0, 0, 0, 1, 1, 0, 1, 1, 1, 1, -2, 1, 1, 0, 0, 0, 0, 1, 0, 0, 0, 0, 0, 0, 1, 1, 0, 0, 0, 0, 0, 1, 1, 0, 0, 0, 0, 0, 1, 1, 0]\n",
      "[0, 0, 0, 0, 0, 1, 1, 0, 0, 0, 0, 0, 1, 1, 1, 1, 1, 1, 1, -2, 1, 0, 0, 0, 0, 0, 1, 0, 0, 0, 0, 0, 0, 1, 1, 0, 0, 0, 0, 0, 1, 1, 0, 0, 0, 0, 0, 1, 1]\n",
      "[1, 0, 0, 0, 0, 0, 1, 1, 0, 0, 0, 0, 0, 1, 1, 1, 1, 1, 1, 1, -2, 0, 0, 0, 0, 0, 0, 1, 1, 0, 0, 0, 0, 0, 1, 1, 0, 0, 0, 0, 0, 1, 1, 0, 0, 0, 0, 0, 1]\n",
      "[1, 1, 0, 0, 0, 0, 0, 1, 1, 0, 0, 0, 0, 0, 1, 1, 0, 0, 0, 0, 0, -2, 1, 1, 1, 1, 1, 1, 1, 0, 0, 0, 0, 0, 0, 1, 1, 0, 0, 0, 0, 0, 1, 1, 0, 0, 0, 0, 0]\n",
      "[0, 1, 1, 0, 0, 0, 0, 0, 1, 1, 0, 0, 0, 0, 0, 1, 1, 0, 0, 0, 0, 1, -2, 1, 1, 1, 1, 1, 0, 1, 0, 0, 0, 0, 0, 0, 1, 1, 0, 0, 0, 0, 0, 1, 1, 0, 0, 0, 0]\n",
      "[0, 0, 1, 1, 0, 0, 0, 0, 0, 1, 1, 0, 0, 0, 0, 0, 1, 1, 0, 0, 0, 1, 1, -2, 1, 1, 1, 1, 0, 0, 1, 0, 0, 0, 0, 0, 0, 1, 1, 0, 0, 0, 0, 0, 1, 1, 0, 0, 0]\n",
      "[0, 0, 0, 1, 1, 0, 0, 0, 0, 0, 1, 1, 0, 0, 0, 0, 0, 1, 1, 0, 0, 1, 1, 1, -2, 1, 1, 1, 0, 0, 0, 1, 0, 0, 0, 0, 0, 0, 1, 1, 0, 0, 0, 0, 0, 1, 1, 0, 0]\n",
      "[0, 0, 0, 0, 1, 1, 0, 0, 0, 0, 0, 1, 1, 0, 0, 0, 0, 0, 1, 1, 0, 1, 1, 1, 1, -2, 1, 1, 0, 0, 0, 0, 1, 0, 0, 0, 0, 0, 0, 1, 1, 0, 0, 0, 0, 0, 1, 1, 0]\n",
      "[0, 0, 0, 0, 0, 1, 1, 0, 0, 0, 0, 0, 1, 1, 0, 0, 0, 0, 0, 1, 1, 1, 1, 1, 1, 1, -2, 1, 0, 0, 0, 0, 0, 1, 0, 0, 0, 0, 0, 0, 1, 1, 0, 0, 0, 0, 0, 1, 1]\n",
      "[1, 0, 0, 0, 0, 0, 1, 1, 0, 0, 0, 0, 0, 1, 1, 0, 0, 0, 0, 0, 1, 1, 1, 1, 1, 1, 1, -2, 0, 0, 0, 0, 0, 0, 1, 1, 0, 0, 0, 0, 0, 1, 1, 0, 0, 0, 0, 0, 1]\n",
      "[1, 1, 0, 0, 0, 0, 0, 1, 1, 0, 0, 0, 0, 0, 1, 1, 0, 0, 0, 0, 0, 1, 1, 0, 0, 0, 0, 0, -2, 1, 1, 1, 1, 1, 1, 1, 0, 0, 0, 0, 0, 0, 1, 1, 0, 0, 0, 0, 0]\n",
      "[0, 1, 1, 0, 0, 0, 0, 0, 1, 1, 0, 0, 0, 0, 0, 1, 1, 0, 0, 0, 0, 0, 1, 1, 0, 0, 0, 0, 1, -2, 1, 1, 1, 1, 1, 0, 1, 0, 0, 0, 0, 0, 0, 1, 1, 0, 0, 0, 0]\n",
      "[0, 0, 1, 1, 0, 0, 0, 0, 0, 1, 1, 0, 0, 0, 0, 0, 1, 1, 0, 0, 0, 0, 0, 1, 1, 0, 0, 0, 1, 1, -2, 1, 1, 1, 1, 0, 0, 1, 0, 0, 0, 0, 0, 0, 1, 1, 0, 0, 0]\n",
      "[0, 0, 0, 1, 1, 0, 0, 0, 0, 0, 1, 1, 0, 0, 0, 0, 0, 1, 1, 0, 0, 0, 0, 0, 1, 1, 0, 0, 1, 1, 1, -2, 1, 1, 1, 0, 0, 0, 1, 0, 0, 0, 0, 0, 0, 1, 1, 0, 0]\n",
      "[0, 0, 0, 0, 1, 1, 0, 0, 0, 0, 0, 1, 1, 0, 0, 0, 0, 0, 1, 1, 0, 0, 0, 0, 0, 1, 1, 0, 1, 1, 1, 1, -2, 1, 1, 0, 0, 0, 0, 1, 0, 0, 0, 0, 0, 0, 1, 1, 0]\n",
      "[0, 0, 0, 0, 0, 1, 1, 0, 0, 0, 0, 0, 1, 1, 0, 0, 0, 0, 0, 1, 1, 0, 0, 0, 0, 0, 1, 1, 1, 1, 1, 1, 1, -2, 1, 0, 0, 0, 0, 0, 1, 0, 0, 0, 0, 0, 0, 1, 1]\n",
      "[1, 0, 0, 0, 0, 0, 1, 1, 0, 0, 0, 0, 0, 1, 1, 0, 0, 0, 0, 0, 1, 1, 0, 0, 0, 0, 0, 1, 1, 1, 1, 1, 1, 1, -2, 0, 0, 0, 0, 0, 0, 1, 1, 0, 0, 0, 0, 0, 1]\n",
      "[1, 1, 0, 0, 0, 0, 0, 1, 1, 0, 0, 0, 0, 0, 1, 1, 0, 0, 0, 0, 0, 1, 1, 0, 0, 0, 0, 0, 1, 1, 0, 0, 0, 0, 0, -2, 1, 1, 1, 1, 1, 1, 1, 0, 0, 0, 0, 0, 0]\n",
      "[0, 1, 1, 0, 0, 0, 0, 0, 1, 1, 0, 0, 0, 0, 0, 1, 1, 0, 0, 0, 0, 0, 1, 1, 0, 0, 0, 0, 0, 1, 1, 0, 0, 0, 0, 1, -2, 1, 1, 1, 1, 1, 0, 1, 0, 0, 0, 0, 0]\n",
      "[0, 0, 1, 1, 0, 0, 0, 0, 0, 1, 1, 0, 0, 0, 0, 0, 1, 1, 0, 0, 0, 0, 0, 1, 1, 0, 0, 0, 0, 0, 1, 1, 0, 0, 0, 1, 1, -2, 1, 1, 1, 1, 0, 0, 1, 0, 0, 0, 0]\n",
      "[0, 0, 0, 1, 1, 0, 0, 0, 0, 0, 1, 1, 0, 0, 0, 0, 0, 1, 1, 0, 0, 0, 0, 0, 1, 1, 0, 0, 0, 0, 0, 1, 1, 0, 0, 1, 1, 1, -2, 1, 1, 1, 0, 0, 0, 1, 0, 0, 0]\n",
      "[0, 0, 0, 0, 1, 1, 0, 0, 0, 0, 0, 1, 1, 0, 0, 0, 0, 0, 1, 1, 0, 0, 0, 0, 0, 1, 1, 0, 0, 0, 0, 0, 1, 1, 0, 1, 1, 1, 1, -2, 1, 1, 0, 0, 0, 0, 1, 0, 0]\n",
      "[0, 0, 0, 0, 0, 1, 1, 0, 0, 0, 0, 0, 1, 1, 0, 0, 0, 0, 0, 1, 1, 0, 0, 0, 0, 0, 1, 1, 0, 0, 0, 0, 0, 1, 1, 1, 1, 1, 1, 1, -2, 1, 0, 0, 0, 0, 0, 1, 0]\n",
      "[1, 0, 0, 0, 0, 0, 1, 1, 0, 0, 0, 0, 0, 1, 1, 0, 0, 0, 0, 0, 1, 1, 0, 0, 0, 0, 0, 1, 1, 0, 0, 0, 0, 0, 1, 1, 1, 1, 1, 1, 1, -2, 0, 0, 0, 0, 0, 0, 1]\n",
      "[1, 0, 0, 0, 0, 0, 0, 1, 1, 0, 0, 0, 0, 0, 1, 1, 0, 0, 0, 0, 0, 1, 1, 0, 0, 0, 0, 0, 1, 1, 0, 0, 0, 0, 0, 1, 1, 0, 0, 0, 0, 0, -2, 1, 1, 1, 1, 1, 1]\n",
      "[0, 1, 0, 0, 0, 0, 0, 0, 1, 1, 0, 0, 0, 0, 0, 1, 1, 0, 0, 0, 0, 0, 1, 1, 0, 0, 0, 0, 0, 1, 1, 0, 0, 0, 0, 0, 1, 1, 0, 0, 0, 0, 1, -2, 1, 1, 1, 1, 1]\n",
      "[0, 0, 1, 0, 0, 0, 0, 0, 0, 1, 1, 0, 0, 0, 0, 0, 1, 1, 0, 0, 0, 0, 0, 1, 1, 0, 0, 0, 0, 0, 1, 1, 0, 0, 0, 0, 0, 1, 1, 0, 0, 0, 1, 1, -2, 1, 1, 1, 1]\n",
      "[0, 0, 0, 1, 0, 0, 0, 0, 0, 0, 1, 1, 0, 0, 0, 0, 0, 1, 1, 0, 0, 0, 0, 0, 1, 1, 0, 0, 0, 0, 0, 1, 1, 0, 0, 0, 0, 0, 1, 1, 0, 0, 1, 1, 1, -2, 1, 1, 1]\n",
      "[0, 0, 0, 0, 1, 0, 0, 0, 0, 0, 0, 1, 1, 0, 0, 0, 0, 0, 1, 1, 0, 0, 0, 0, 0, 1, 1, 0, 0, 0, 0, 0, 1, 1, 0, 0, 0, 0, 0, 1, 1, 0, 1, 1, 1, 1, -2, 1, 1]\n",
      "[0, 0, 0, 0, 0, 1, 0, 0, 0, 0, 0, 0, 1, 1, 0, 0, 0, 0, 0, 1, 1, 0, 0, 0, 0, 0, 1, 1, 0, 0, 0, 0, 0, 1, 1, 0, 0, 0, 0, 0, 1, 1, 1, 1, 1, 1, 1, -2, 1]\n",
      "[0, 0, 0, 0, 0, 0, 1, 1, 0, 0, 0, 0, 0, 1, 1, 0, 0, 0, 0, 0, 1, 1, 0, 0, 0, 0, 0, 1, 1, 0, 0, 0, 0, 0, 1, 1, 0, 0, 0, 0, 0, 1, 1, 1, 1, 1, 1, 1, -2]\n",
      "{(0, 0): 0, (0, 1): 1, (0, 2): 2, (0, 3): 3, (0, 4): 4, (0, 5): 5, (0, 6): 6, (1, 0): 7, (1, 1): 8, (1, 2): 9, (1, 3): 10, (1, 4): 11, (1, 5): 12, (1, 6): 13, (2, 0): 14, (2, 1): 15, (2, 2): 16, (2, 3): 17, (2, 4): 18, (2, 5): 19, (2, 6): 20, (3, 0): 21, (3, 1): 22, (3, 2): 23, (3, 3): 24, (3, 4): 25, (3, 5): 26, (3, 6): 27, (4, 0): 28, (4, 1): 29, (4, 2): 30, (4, 3): 31, (4, 4): 32, (4, 5): 33, (4, 6): 34, (5, 0): 35, (5, 1): 36, (5, 2): 37, (5, 3): 38, (5, 4): 39, (5, 5): 40, (5, 6): 41, (6, 0): 42, (6, 1): 43, (6, 2): 44, (6, 3): 45, (6, 4): 46, (6, 5): 47, (6, 6): 48}\n"
     ]
    }
   ],
   "source": [
    "G = graph(9, 3)\n",
    "M = matrix(G)\n",
    "print(M)\n",
    "len_M = len(M)\n",
    "\n",
    "qubo = generate_qubo(M)\n",
    "Q = qubo[0]\n",
    "vD = qubo[1]\n",
    "\n",
    "for i in range(len_M*len_M):\n",
    "    print([Q[i,j] for j in range(len_M*len_M)])\n",
    "\n",
    "print(vD)\n",
    "d = dwave(Q, len_M, vD)\n"
   ]
  },
  {
   "cell_type": "code",
   "execution_count": 232,
   "metadata": {},
   "outputs": [
    {
     "name": "stdout",
     "output_type": "stream",
     "text": [
      "read =  ['T', 'G', 'A', 'A', 'C', 'T', 'A', 'A', 'T']\n",
      "k-mers =  ['TGAA', 'GAAC', 'AACT', 'ACTA', 'CTAA', 'TAAT']\n"
     ]
    },
    {
     "name": "stderr",
     "output_type": "stream",
     "text": [
      "d:\\python\\lib\\site-packages\\networkx\\drawing\\nx_pylab.py:579: MatplotlibDeprecationWarning: \n",
      "The iterable function was deprecated in Matplotlib 3.1 and will be removed in 3.3. Use np.iterable instead.\n",
      "  if not cb.iterable(width):\n",
      "d:\\python\\lib\\site-packages\\networkx\\drawing\\nx_pylab.py:676: MatplotlibDeprecationWarning: \n",
      "The iterable function was deprecated in Matplotlib 3.1 and will be removed in 3.3. Use np.iterable instead.\n",
      "  if cb.iterable(node_size):  # many node sizes\n"
     ]
    },
    {
     "data": {
      "image/png": "[encoded data removed]",
      "text/plain": [
       "<Figure size 432x288 with 1 Axes>"
      ]
     },
     "metadata": {},
     "output_type": "display_data"
    },
    {
     "name": "stdout",
     "output_type": "stream",
     "text": [
      "[[0 1 0 0 0 0]\n",
      " [0 0 1 0 0 0]\n",
      " [0 0 0 1 0 0]\n",
      " [0 0 0 0 1 0]\n",
      " [0 0 0 0 0 1]\n",
      " [1 0 0 0 0 0]]\n",
      "[-2, 1, 1, 1, 1, 1, 1, 0, 0, 0, 0, 0, 1, 1, 0, 0, 0, 0, 1, 1, 0, 0, 0, 0, 1, 1, 0, 0, 0, 0, 1, 1, 0, 0, 0, 0]\n",
      "[1, -2, 1, 1, 1, 1, 0, 1, 0, 0, 0, 0, 0, 1, 1, 0, 0, 0, 0, 1, 1, 0, 0, 0, 0, 1, 1, 0, 0, 0, 0, 1, 1, 0, 0, 0]\n",
      "[1, 1, -2, 1, 1, 1, 0, 0, 1, 0, 0, 0, 0, 0, 1, 1, 0, 0, 0, 0, 1, 1, 0, 0, 0, 0, 1, 1, 0, 0, 0, 0, 1, 1, 0, 0]\n",
      "[1, 1, 1, -2, 1, 1, 0, 0, 0, 1, 0, 0, 0, 0, 0, 1, 1, 0, 0, 0, 0, 1, 1, 0, 0, 0, 0, 1, 1, 0, 0, 0, 0, 1, 1, 0]\n",
      "[1, 1, 1, 1, -2, 1, 0, 0, 0, 0, 1, 0, 0, 0, 0, 0, 1, 1, 0, 0, 0, 0, 1, 1, 0, 0, 0, 0, 1, 1, 0, 0, 0, 0, 1, 1]\n",
      "[1, 1, 1, 1, 1, -2, 0, 0, 0, 0, 0, 1, 1, 0, 0, 0, 0, 1, 1, 0, 0, 0, 0, 1, 1, 0, 0, 0, 0, 1, 1, 0, 0, 0, 0, 1]\n",
      "[1, 1, 0, 0, 0, 0, -2, 1, 1, 1, 1, 1, 1, 0, 0, 0, 0, 0, 1, 1, 0, 0, 0, 0, 1, 1, 0, 0, 0, 0, 1, 1, 0, 0, 0, 0]\n",
      "[0, 1, 1, 0, 0, 0, 1, -2, 1, 1, 1, 1, 0, 1, 0, 0, 0, 0, 0, 1, 1, 0, 0, 0, 0, 1, 1, 0, 0, 0, 0, 1, 1, 0, 0, 0]\n",
      "[0, 0, 1, 1, 0, 0, 1, 1, -2, 1, 1, 1, 0, 0, 1, 0, 0, 0, 0, 0, 1, 1, 0, 0, 0, 0, 1, 1, 0, 0, 0, 0, 1, 1, 0, 0]\n",
      "[0, 0, 0, 1, 1, 0, 1, 1, 1, -2, 1, 1, 0, 0, 0, 1, 0, 0, 0, 0, 0, 1, 1, 0, 0, 0, 0, 1, 1, 0, 0, 0, 0, 1, 1, 0]\n",
      "[0, 0, 0, 0, 1, 1, 1, 1, 1, 1, -2, 1, 0, 0, 0, 0, 1, 0, 0, 0, 0, 0, 1, 1, 0, 0, 0, 0, 1, 1, 0, 0, 0, 0, 1, 1]\n",
      "[1, 0, 0, 0, 0, 1, 1, 1, 1, 1, 1, -2, 0, 0, 0, 0, 0, 1, 1, 0, 0, 0, 0, 1, 1, 0, 0, 0, 0, 1, 1, 0, 0, 0, 0, 1]\n",
      "[1, 1, 0, 0, 0, 0, 1, 1, 0, 0, 0, 0, -2, 1, 1, 1, 1, 1, 1, 0, 0, 0, 0, 0, 1, 1, 0, 0, 0, 0, 1, 1, 0, 0, 0, 0]\n",
      "[0, 1, 1, 0, 0, 0, 0, 1, 1, 0, 0, 0, 1, -2, 1, 1, 1, 1, 0, 1, 0, 0, 0, 0, 0, 1, 1, 0, 0, 0, 0, 1, 1, 0, 0, 0]\n",
      "[0, 0, 1, 1, 0, 0, 0, 0, 1, 1, 0, 0, 1, 1, -2, 1, 1, 1, 0, 0, 1, 0, 0, 0, 0, 0, 1, 1, 0, 0, 0, 0, 1, 1, 0, 0]\n",
      "[0, 0, 0, 1, 1, 0, 0, 0, 0, 1, 1, 0, 1, 1, 1, -2, 1, 1, 0, 0, 0, 1, 0, 0, 0, 0, 0, 1, 1, 0, 0, 0, 0, 1, 1, 0]\n",
      "[0, 0, 0, 0, 1, 1, 0, 0, 0, 0, 1, 1, 1, 1, 1, 1, -2, 1, 0, 0, 0, 0, 1, 0, 0, 0, 0, 0, 1, 1, 0, 0, 0, 0, 1, 1]\n",
      "[1, 0, 0, 0, 0, 1, 1, 0, 0, 0, 0, 1, 1, 1, 1, 1, 1, -2, 0, 0, 0, 0, 0, 1, 1, 0, 0, 0, 0, 1, 1, 0, 0, 0, 0, 1]\n",
      "[1, 1, 0, 0, 0, 0, 1, 1, 0, 0, 0, 0, 1, 1, 0, 0, 0, 0, -2, 1, 1, 1, 1, 1, 1, 0, 0, 0, 0, 0, 1, 1, 0, 0, 0, 0]\n",
      "[0, 1, 1, 0, 0, 0, 0, 1, 1, 0, 0, 0, 0, 1, 1, 0, 0, 0, 1, -2, 1, 1, 1, 1, 0, 1, 0, 0, 0, 0, 0, 1, 1, 0, 0, 0]\n",
      "[0, 0, 1, 1, 0, 0, 0, 0, 1, 1, 0, 0, 0, 0, 1, 1, 0, 0, 1, 1, -2, 1, 1, 1, 0, 0, 1, 0, 0, 0, 0, 0, 1, 1, 0, 0]\n",
      "[0, 0, 0, 1, 1, 0, 0, 0, 0, 1, 1, 0, 0, 0, 0, 1, 1, 0, 1, 1, 1, -2, 1, 1, 0, 0, 0, 1, 0, 0, 0, 0, 0, 1, 1, 0]\n",
      "[0, 0, 0, 0, 1, 1, 0, 0, 0, 0, 1, 1, 0, 0, 0, 0, 1, 1, 1, 1, 1, 1, -2, 1, 0, 0, 0, 0, 1, 0, 0, 0, 0, 0, 1, 1]\n",
      "[1, 0, 0, 0, 0, 1, 1, 0, 0, 0, 0, 1, 1, 0, 0, 0, 0, 1, 1, 1, 1, 1, 1, -2, 0, 0, 0, 0, 0, 1, 1, 0, 0, 0, 0, 1]\n",
      "[1, 1, 0, 0, 0, 0, 1, 1, 0, 0, 0, 0, 1, 1, 0, 0, 0, 0, 1, 1, 0, 0, 0, 0, -2, 1, 1, 1, 1, 1, 1, 0, 0, 0, 0, 0]\n",
      "[0, 1, 1, 0, 0, 0, 0, 1, 1, 0, 0, 0, 0, 1, 1, 0, 0, 0, 0, 1, 1, 0, 0, 0, 1, -2, 1, 1, 1, 1, 0, 1, 0, 0, 0, 0]\n",
      "[0, 0, 1, 1, 0, 0, 0, 0, 1, 1, 0, 0, 0, 0, 1, 1, 0, 0, 0, 0, 1, 1, 0, 0, 1, 1, -2, 1, 1, 1, 0, 0, 1, 0, 0, 0]\n",
      "[0, 0, 0, 1, 1, 0, 0, 0, 0, 1, 1, 0, 0, 0, 0, 1, 1, 0, 0, 0, 0, 1, 1, 0, 1, 1, 1, -2, 1, 1, 0, 0, 0, 1, 0, 0]\n",
      "[0, 0, 0, 0, 1, 1, 0, 0, 0, 0, 1, 1, 0, 0, 0, 0, 1, 1, 0, 0, 0, 0, 1, 1, 1, 1, 1, 1, -2, 1, 0, 0, 0, 0, 1, 0]\n",
      "[1, 0, 0, 0, 0, 1, 1, 0, 0, 0, 0, 1, 1, 0, 0, 0, 0, 1, 1, 0, 0, 0, 0, 1, 1, 1, 1, 1, 1, -2, 0, 0, 0, 0, 0, 1]\n",
      "[1, 0, 0, 0, 0, 0, 1, 1, 0, 0, 0, 0, 1, 1, 0, 0, 0, 0, 1, 1, 0, 0, 0, 0, 1, 1, 0, 0, 0, 0, -2, 1, 1, 1, 1, 1]\n",
      "[0, 1, 0, 0, 0, 0, 0, 1, 1, 0, 0, 0, 0, 1, 1, 0, 0, 0, 0, 1, 1, 0, 0, 0, 0, 1, 1, 0, 0, 0, 1, -2, 1, 1, 1, 1]\n",
      "[0, 0, 1, 0, 0, 0, 0, 0, 1, 1, 0, 0, 0, 0, 1, 1, 0, 0, 0, 0, 1, 1, 0, 0, 0, 0, 1, 1, 0, 0, 1, 1, -2, 1, 1, 1]\n",
      "[0, 0, 0, 1, 0, 0, 0, 0, 0, 1, 1, 0, 0, 0, 0, 1, 1, 0, 0, 0, 0, 1, 1, 0, 0, 0, 0, 1, 1, 0, 1, 1, 1, -2, 1, 1]\n",
      "[0, 0, 0, 0, 1, 0, 0, 0, 0, 0, 1, 1, 0, 0, 0, 0, 1, 1, 0, 0, 0, 0, 1, 1, 0, 0, 0, 0, 1, 1, 1, 1, 1, 1, -2, 1]\n",
      "[0, 0, 0, 0, 0, 1, 1, 0, 0, 0, 0, 1, 1, 0, 0, 0, 0, 1, 1, 0, 0, 0, 0, 1, 1, 0, 0, 0, 0, 1, 1, 1, 1, 1, 1, -2]\n",
      "{(0, 0): 0, (0, 1): 1, (0, 2): 2, (0, 3): 3, (0, 4): 4, (0, 5): 5, (1, 0): 6, (1, 1): 7, (1, 2): 8, (1, 3): 9, (1, 4): 10, (1, 5): 11, (2, 0): 12, (2, 1): 13, (2, 2): 14, (2, 3): 15, (2, 4): 16, (2, 5): 17, (3, 0): 18, (3, 1): 19, (3, 2): 20, (3, 3): 21, (3, 4): 22, (3, 5): 23, (4, 0): 24, (4, 1): 25, (4, 2): 26, (4, 3): 27, (4, 4): 28, (4, 5): 29, (5, 0): 30, (5, 1): 31, (5, 2): 32, (5, 3): 33, (5, 4): 34, (5, 5): 35}\n"
     ]
    }
   ],
   "source": [
    "G = graph(9, 4)\n",
    "M = matrix(G)\n",
    "print(M)\n",
    "len_M = len(M)\n",
    "\n",
    "qubo = generate_qubo(M)\n",
    "Q = qubo[0]\n",
    "vD = qubo[1]\n",
    "\n",
    "for i in range(len_M*len_M):\n",
    "    print([Q[i,j] for j in range(len_M*len_M)])\n",
    "\n",
    "print(vD)\n",
    "d = dwave(Q, len_M, vD)\n"
   ]
  }
 ],
 "metadata": {
  "kernelspec": {
   "display_name": "Python 3",
   "language": "python",
   "name": "python3"
  },
  "language_info": {
   "codemirror_mode": {
    "name": "ipython",
    "version": 3
   },
   "file_extension": ".py",
   "mimetype": "text/x-python",
   "name": "python",
   "nbconvert_exporter": "python",
   "pygments_lexer": "ipython3",
   "version": "3.7.1"
  }
 },
 "nbformat": 4,
 "nbformat_minor": 2
}
